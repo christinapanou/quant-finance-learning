{
 "cells": [
  {
   "cell_type": "markdown",
   "id": "cf62dc62-c37a-498b-bb3e-b99eb998e634",
   "metadata": {},
   "source": [
    "`# Import dependencies`"
   ]
  },
  {
   "cell_type": "code",
   "execution_count": 1,
   "id": "be40d930-94ea-4507-a89a-349434cc5e0b",
   "metadata": {},
   "outputs": [],
   "source": [
    "import datetime as dt\n",
    "import pandas as pd\n",
    "import numpy as np\n",
    "import yfinance as yf\n",
    "from pandas_datareader import data as pdr\n",
    "from scipy import stats\n",
    "#import plotly.io as pio\n",
    "#import plotly.graph_objects as go\n",
    "#from plotly.subplots import make_subplots\n",
    "\n",
    "#pio.renderers.default = 'iframe'\n",
    "#pd.options.plotting.backend = 'plotly'"
   ]
  },
  {
   "cell_type": "markdown",
   "id": "1c8a8bf8-1e8b-41e5-9a69-75cb8a01a3fa",
   "metadata": {},
   "source": [
    "`# Get stock market data`"
   ]
  },
  {
   "cell_type": "code",
   "execution_count": 2,
   "id": "86e2b891-a76e-4b45-a205-8d9a647f8405",
   "metadata": {},
   "outputs": [
    {
     "name": "stdout",
     "output_type": "stream",
     "text": [
      "yfinance: pandas_datareader support is deprecated & semi-broken so will be removed in a future verison. Just use yfinance.\n"
     ]
    },
    {
     "name": "stderr",
     "output_type": "stream",
     "text": [
      "[*********************100%%**********************]  5 of 5 completed\n"
     ]
    }
   ],
   "source": [
    "end = dt.datetime.now()\n",
    "start = dt.datetime(2015,1,1)\n",
    "\n",
    "yf.pdr_override()\n",
    "df = pdr.get_data_yahoo([\"^SPX\", \"NVDA\", \"GOOG\", \"META\", \"TSLA\"], start, end)"
   ]
  },
  {
   "cell_type": "code",
   "execution_count": null,
   "id": "13443de0-e47d-4b42-b330-54cda1dc7e93",
   "metadata": {},
   "outputs": [],
   "source": [
    "log_returns = np.log(df.Close/df.Close.shift(1)).dropna()\n",
    "log_returns.head()"
   ]
  },
  {
   "cell_type": "markdown",
   "id": "a1d41155-4684-4b58-80ed-7971d5505536",
   "metadata": {},
   "source": [
    "`# Directly calculate beta`"
   ]
  },
  {
   "cell_type": "code",
   "execution_count": 3,
   "id": "5d486249-cfb1-47d2-8b0d-524e6b7c85f7",
   "metadata": {},
   "outputs": [],
   "source": [
    "def calc_beta(df):\n",
    "    np_array = df.values\n",
    "    m = np_array[:,4]\n",
    "    beta = []\n",
    "    for ind, col in enumerate(df):\n",
    "        if ind != 4:\n",
    "            s = np_array[:, ind]\n",
    "            covariance = np.cov(s,m)\n",
    "            beta.append(covariance[0,1]/covariance[1,1])\n",
    "    return pd.Series(beta, df.columns[1:], name = 'Beta')"
   ]
  },
  {
   "cell_type": "code",
   "execution_count": 4,
   "id": "0769398d-5f4e-4546-ba8b-92af6a3ac21a",
   "metadata": {},
   "outputs": [
    {
     "ename": "NameError",
     "evalue": "name 'log_returns' is not defined",
     "output_type": "error",
     "traceback": [
      "\u001b[0;31m---------------------------------------------------------------------------\u001b[0m",
      "\u001b[0;31mNameError\u001b[0m                                 Traceback (most recent call last)",
      "Cell \u001b[0;32mIn[4], line 1\u001b[0m\n\u001b[0;32m----> 1\u001b[0m calc_beta(\u001b[43mlog_returns\u001b[49m)\n",
      "\u001b[0;31mNameError\u001b[0m: name 'log_returns' is not defined"
     ]
    }
   ],
   "source": [
    "calc_beta(log_returns)"
   ]
  },
  {
   "cell_type": "markdown",
   "id": "401fe81c-461a-41e0-8f54-04d976d6c663",
   "metadata": {},
   "source": [
    "`# Use linear regression to get coefficient of market and stocks returns`"
   ]
  }
 ],
 "metadata": {
  "kernelspec": {
   "display_name": "Python 3 (ipykernel)",
   "language": "python",
   "name": "python3"
  },
  "language_info": {
   "codemirror_mode": {
    "name": "ipython",
    "version": 3
   },
   "file_extension": ".py",
   "mimetype": "text/x-python",
   "name": "python",
   "nbconvert_exporter": "python",
   "pygments_lexer": "ipython3",
   "version": "3.10.14"
  }
 },
 "nbformat": 4,
 "nbformat_minor": 5
}
