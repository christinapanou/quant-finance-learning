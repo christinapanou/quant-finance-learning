{
 "cells": [
  {
   "cell_type": "markdown",
   "id": "cc622810-a5fc-4ed5-9f4b-9ac6199d1a94",
   "metadata": {},
   "source": [
    "`# Import dependencies`"
   ]
  },
  {
   "cell_type": "code",
   "execution_count": 1,
   "id": "4dad02bc-2024-455b-941a-d743c37fecea",
   "metadata": {},
   "outputs": [],
   "source": [
    "import datetime as dt \n",
    "import pandas as pd\n",
    "import yfinance as yf\n",
    "from pandas_datareader import data as pdr\n",
    "import matplotlib"
   ]
  },
  {
   "cell_type": "markdown",
   "id": "e335f612-4d56-4078-a84d-f45e26097f38",
   "metadata": {},
   "source": [
    "`# Specify date range for analysis`"
   ]
  },
  {
   "cell_type": "code",
   "execution_count": 2,
   "id": "0b0e7d23-590c-4611-8873-2c58a269a5d2",
   "metadata": {},
   "outputs": [
    {
     "data": {
      "text/plain": [
       "(datetime.datetime(2021, 10, 23, 21, 49, 48, 154245),\n",
       " datetime.datetime(2024, 7, 19, 21, 49, 48, 154245))"
      ]
     },
     "execution_count": 2,
     "metadata": {},
     "output_type": "execute_result"
    }
   ],
   "source": [
    "end = dt.datetime.now()\n",
    "start = end - dt.timedelta(days=1000)\n",
    "start, end"
   ]
  },
  {
   "cell_type": "markdown",
   "id": "af3402c1-46f0-4504-a0b4-a2ddef6792e0",
   "metadata": {},
   "source": [
    "`# Select stocks/tickers for analysis`"
   ]
  },
  {
   "cell_type": "code",
   "execution_count": 3,
   "id": "b1a98aee-113f-4065-8455-b6a9976f867e",
   "metadata": {},
   "outputs": [
    {
     "data": {
      "text/plain": [
       "['NVDA', 'GOOG', 'META', 'TSLA']"
      ]
     },
     "execution_count": 3,
     "metadata": {},
     "output_type": "execute_result"
    }
   ],
   "source": [
    "stocklist = [\"NVDA\", \"GOOG\", \"META\", \"TSLA\"]\n",
    "stocklist"
   ]
  },
  {
   "cell_type": "code",
   "execution_count": 4,
   "id": "42f65619-4264-496b-ba3a-056fb3d30465",
   "metadata": {},
   "outputs": [
    {
     "name": "stdout",
     "output_type": "stream",
     "text": [
      "yfinance: pandas_datareader support is deprecated & semi-broken so will be removed in a future verison. Just use yfinance.\n"
     ]
    },
    {
     "name": "stderr",
     "output_type": "stream",
     "text": [
      "[*********************100%%**********************]  4 of 4 completed\n"
     ]
    },
    {
     "data": {
      "text/html": [
       "<div>\n",
       "<style scoped>\n",
       "    .dataframe tbody tr th:only-of-type {\n",
       "        vertical-align: middle;\n",
       "    }\n",
       "\n",
       "    .dataframe tbody tr th {\n",
       "        vertical-align: top;\n",
       "    }\n",
       "\n",
       "    .dataframe thead tr th {\n",
       "        text-align: left;\n",
       "    }\n",
       "\n",
       "    .dataframe thead tr:last-of-type th {\n",
       "        text-align: right;\n",
       "    }\n",
       "</style>\n",
       "<table border=\"1\" class=\"dataframe\">\n",
       "  <thead>\n",
       "    <tr>\n",
       "      <th>Price</th>\n",
       "      <th colspan=\"4\" halign=\"left\">Adj Close</th>\n",
       "      <th colspan=\"4\" halign=\"left\">Close</th>\n",
       "      <th colspan=\"2\" halign=\"left\">High</th>\n",
       "      <th>...</th>\n",
       "      <th colspan=\"2\" halign=\"left\">Low</th>\n",
       "      <th colspan=\"4\" halign=\"left\">Open</th>\n",
       "      <th colspan=\"4\" halign=\"left\">Volume</th>\n",
       "    </tr>\n",
       "    <tr>\n",
       "      <th>Ticker</th>\n",
       "      <th>GOOG</th>\n",
       "      <th>META</th>\n",
       "      <th>NVDA</th>\n",
       "      <th>TSLA</th>\n",
       "      <th>GOOG</th>\n",
       "      <th>META</th>\n",
       "      <th>NVDA</th>\n",
       "      <th>TSLA</th>\n",
       "      <th>GOOG</th>\n",
       "      <th>META</th>\n",
       "      <th>...</th>\n",
       "      <th>NVDA</th>\n",
       "      <th>TSLA</th>\n",
       "      <th>GOOG</th>\n",
       "      <th>META</th>\n",
       "      <th>NVDA</th>\n",
       "      <th>TSLA</th>\n",
       "      <th>GOOG</th>\n",
       "      <th>META</th>\n",
       "      <th>NVDA</th>\n",
       "      <th>TSLA</th>\n",
       "    </tr>\n",
       "    <tr>\n",
       "      <th>Date</th>\n",
       "      <th></th>\n",
       "      <th></th>\n",
       "      <th></th>\n",
       "      <th></th>\n",
       "      <th></th>\n",
       "      <th></th>\n",
       "      <th></th>\n",
       "      <th></th>\n",
       "      <th></th>\n",
       "      <th></th>\n",
       "      <th></th>\n",
       "      <th></th>\n",
       "      <th></th>\n",
       "      <th></th>\n",
       "      <th></th>\n",
       "      <th></th>\n",
       "      <th></th>\n",
       "      <th></th>\n",
       "      <th></th>\n",
       "      <th></th>\n",
       "      <th></th>\n",
       "    </tr>\n",
       "  </thead>\n",
       "  <tbody>\n",
       "    <tr>\n",
       "      <th>2021-10-25</th>\n",
       "      <td>138.615250</td>\n",
       "      <td>328.015930</td>\n",
       "      <td>23.128279</td>\n",
       "      <td>341.619995</td>\n",
       "      <td>138.772995</td>\n",
       "      <td>328.690002</td>\n",
       "      <td>23.166000</td>\n",
       "      <td>341.619995</td>\n",
       "      <td>139.205795</td>\n",
       "      <td>329.559998</td>\n",
       "      <td>...</td>\n",
       "      <td>22.770000</td>\n",
       "      <td>314.733337</td>\n",
       "      <td>138.810501</td>\n",
       "      <td>320.299988</td>\n",
       "      <td>22.973000</td>\n",
       "      <td>316.843323</td>\n",
       "      <td>21082000</td>\n",
       "      <td>38409000</td>\n",
       "      <td>230235000</td>\n",
       "      <td>188556300</td>\n",
       "    </tr>\n",
       "    <tr>\n",
       "      <th>2021-10-26</th>\n",
       "      <td>139.513245</td>\n",
       "      <td>315.162354</td>\n",
       "      <td>24.676748</td>\n",
       "      <td>339.476654</td>\n",
       "      <td>139.671997</td>\n",
       "      <td>315.809998</td>\n",
       "      <td>24.716999</td>\n",
       "      <td>339.476654</td>\n",
       "      <td>140.839493</td>\n",
       "      <td>330.209991</td>\n",
       "      <td>...</td>\n",
       "      <td>23.924000</td>\n",
       "      <td>333.813324</td>\n",
       "      <td>140.606003</td>\n",
       "      <td>328.260010</td>\n",
       "      <td>23.989000</td>\n",
       "      <td>341.563324</td>\n",
       "      <td>28258000</td>\n",
       "      <td>65654000</td>\n",
       "      <td>485898000</td>\n",
       "      <td>187245000</td>\n",
       "    </tr>\n",
       "    <tr>\n",
       "      <th>2021-10-27</th>\n",
       "      <td>146.261063</td>\n",
       "      <td>311.579712</td>\n",
       "      <td>24.411179</td>\n",
       "      <td>345.953339</td>\n",
       "      <td>146.427505</td>\n",
       "      <td>312.220001</td>\n",
       "      <td>24.451000</td>\n",
       "      <td>345.953339</td>\n",
       "      <td>149.117996</td>\n",
       "      <td>319.250000</td>\n",
       "      <td>...</td>\n",
       "      <td>24.282000</td>\n",
       "      <td>343.593323</td>\n",
       "      <td>139.902496</td>\n",
       "      <td>314.190002</td>\n",
       "      <td>24.474001</td>\n",
       "      <td>346.553345</td>\n",
       "      <td>51850000</td>\n",
       "      <td>29971800</td>\n",
       "      <td>245990000</td>\n",
       "      <td>115579500</td>\n",
       "    </tr>\n",
       "    <tr>\n",
       "      <th>2021-10-28</th>\n",
       "      <td>145.962906</td>\n",
       "      <td>316.270081</td>\n",
       "      <td>24.900383</td>\n",
       "      <td>359.013336</td>\n",
       "      <td>146.128998</td>\n",
       "      <td>316.920013</td>\n",
       "      <td>24.941000</td>\n",
       "      <td>359.013336</td>\n",
       "      <td>147.424500</td>\n",
       "      <td>325.519989</td>\n",
       "      <td>...</td>\n",
       "      <td>24.523001</td>\n",
       "      <td>351.399994</td>\n",
       "      <td>147.298996</td>\n",
       "      <td>312.989990</td>\n",
       "      <td>24.878000</td>\n",
       "      <td>356.103333</td>\n",
       "      <td>32418000</td>\n",
       "      <td>50806800</td>\n",
       "      <td>234204000</td>\n",
       "      <td>81639600</td>\n",
       "    </tr>\n",
       "    <tr>\n",
       "      <th>2021-10-29</th>\n",
       "      <td>148.101959</td>\n",
       "      <td>322.906433</td>\n",
       "      <td>25.525366</td>\n",
       "      <td>371.333344</td>\n",
       "      <td>148.270493</td>\n",
       "      <td>323.570007</td>\n",
       "      <td>25.566999</td>\n",
       "      <td>371.333344</td>\n",
       "      <td>148.613007</td>\n",
       "      <td>326.000000</td>\n",
       "      <td>...</td>\n",
       "      <td>25.000000</td>\n",
       "      <td>357.736664</td>\n",
       "      <td>145.520004</td>\n",
       "      <td>320.190002</td>\n",
       "      <td>25.000999</td>\n",
       "      <td>360.619995</td>\n",
       "      <td>28954000</td>\n",
       "      <td>37059400</td>\n",
       "      <td>292503000</td>\n",
       "      <td>89755200</td>\n",
       "    </tr>\n",
       "  </tbody>\n",
       "</table>\n",
       "<p>5 rows × 24 columns</p>\n",
       "</div>"
      ],
      "text/plain": [
       "Price        Adj Close                                          Close  \\\n",
       "Ticker            GOOG        META       NVDA        TSLA        GOOG   \n",
       "Date                                                                    \n",
       "2021-10-25  138.615250  328.015930  23.128279  341.619995  138.772995   \n",
       "2021-10-26  139.513245  315.162354  24.676748  339.476654  139.671997   \n",
       "2021-10-27  146.261063  311.579712  24.411179  345.953339  146.427505   \n",
       "2021-10-28  145.962906  316.270081  24.900383  359.013336  146.128998   \n",
       "2021-10-29  148.101959  322.906433  25.525366  371.333344  148.270493   \n",
       "\n",
       "Price                                                High              ...  \\\n",
       "Ticker            META       NVDA        TSLA        GOOG        META  ...   \n",
       "Date                                                                   ...   \n",
       "2021-10-25  328.690002  23.166000  341.619995  139.205795  329.559998  ...   \n",
       "2021-10-26  315.809998  24.716999  339.476654  140.839493  330.209991  ...   \n",
       "2021-10-27  312.220001  24.451000  345.953339  149.117996  319.250000  ...   \n",
       "2021-10-28  316.920013  24.941000  359.013336  147.424500  325.519989  ...   \n",
       "2021-10-29  323.570007  25.566999  371.333344  148.613007  326.000000  ...   \n",
       "\n",
       "Price             Low                    Open                         \\\n",
       "Ticker           NVDA        TSLA        GOOG        META       NVDA   \n",
       "Date                                                                   \n",
       "2021-10-25  22.770000  314.733337  138.810501  320.299988  22.973000   \n",
       "2021-10-26  23.924000  333.813324  140.606003  328.260010  23.989000   \n",
       "2021-10-27  24.282000  343.593323  139.902496  314.190002  24.474001   \n",
       "2021-10-28  24.523001  351.399994  147.298996  312.989990  24.878000   \n",
       "2021-10-29  25.000000  357.736664  145.520004  320.190002  25.000999   \n",
       "\n",
       "Price                     Volume                                  \n",
       "Ticker            TSLA      GOOG      META       NVDA       TSLA  \n",
       "Date                                                              \n",
       "2021-10-25  316.843323  21082000  38409000  230235000  188556300  \n",
       "2021-10-26  341.563324  28258000  65654000  485898000  187245000  \n",
       "2021-10-27  346.553345  51850000  29971800  245990000  115579500  \n",
       "2021-10-28  356.103333  32418000  50806800  234204000   81639600  \n",
       "2021-10-29  360.619995  28954000  37059400  292503000   89755200  \n",
       "\n",
       "[5 rows x 24 columns]"
      ]
     },
     "execution_count": 4,
     "metadata": {},
     "output_type": "execute_result"
    }
   ],
   "source": [
    "yf.pdr_override()\n",
    "df = pdr.get_data_yahoo(stocklist, start, end)\n",
    "df.head()"
   ]
  },
  {
   "cell_type": "markdown",
   "id": "0aaaaa74-ad5a-47ca-abfe-cbd83cfa7d37",
   "metadata": {},
   "source": [
    "`# Understanding the pandas dataframe structure`"
   ]
  },
  {
   "cell_type": "code",
   "execution_count": 5,
   "id": "3c0b8c2a-25b3-4495-89f4-f4e44060894a",
   "metadata": {},
   "outputs": [
    {
     "data": {
      "text/plain": [
       "DatetimeIndex(['2021-10-25', '2021-10-26', '2021-10-27', '2021-10-28',\n",
       "               '2021-10-29', '2021-11-01', '2021-11-02', '2021-11-03',\n",
       "               '2021-11-04', '2021-11-05',\n",
       "               ...\n",
       "               '2024-07-08', '2024-07-09', '2024-07-10', '2024-07-11',\n",
       "               '2024-07-12', '2024-07-15', '2024-07-16', '2024-07-17',\n",
       "               '2024-07-18', '2024-07-19'],\n",
       "              dtype='datetime64[ns]', name='Date', length=687, freq=None)"
      ]
     },
     "execution_count": 5,
     "metadata": {},
     "output_type": "execute_result"
    }
   ],
   "source": [
    "df.index"
   ]
  },
  {
   "cell_type": "code",
   "execution_count": 6,
   "id": "8882322a-9635-46ab-a45e-5a2824df7f82",
   "metadata": {},
   "outputs": [
    {
     "data": {
      "text/plain": [
       "MultiIndex([('Adj Close', 'GOOG'),\n",
       "            ('Adj Close', 'META'),\n",
       "            ('Adj Close', 'NVDA'),\n",
       "            ('Adj Close', 'TSLA'),\n",
       "            (    'Close', 'GOOG'),\n",
       "            (    'Close', 'META'),\n",
       "            (    'Close', 'NVDA'),\n",
       "            (    'Close', 'TSLA'),\n",
       "            (     'High', 'GOOG'),\n",
       "            (     'High', 'META'),\n",
       "            (     'High', 'NVDA'),\n",
       "            (     'High', 'TSLA'),\n",
       "            (      'Low', 'GOOG'),\n",
       "            (      'Low', 'META'),\n",
       "            (      'Low', 'NVDA'),\n",
       "            (      'Low', 'TSLA'),\n",
       "            (     'Open', 'GOOG'),\n",
       "            (     'Open', 'META'),\n",
       "            (     'Open', 'NVDA'),\n",
       "            (     'Open', 'TSLA'),\n",
       "            (   'Volume', 'GOOG'),\n",
       "            (   'Volume', 'META'),\n",
       "            (   'Volume', 'NVDA'),\n",
       "            (   'Volume', 'TSLA')],\n",
       "           names=['Price', 'Ticker'])"
      ]
     },
     "execution_count": 6,
     "metadata": {},
     "output_type": "execute_result"
    }
   ],
   "source": [
    "df.columns"
   ]
  },
  {
   "cell_type": "markdown",
   "id": "8c78a1e3-4dcf-4b60-a8cf-ef613c6e50df",
   "metadata": {},
   "source": [
    "`# Access useful prices easily`"
   ]
  },
  {
   "cell_type": "code",
   "execution_count": 7,
   "id": "f52884d3-c4da-461c-b5bd-48eedc9ca7b7",
   "metadata": {},
   "outputs": [
    {
     "data": {
      "text/html": [
       "<div>\n",
       "<style scoped>\n",
       "    .dataframe tbody tr th:only-of-type {\n",
       "        vertical-align: middle;\n",
       "    }\n",
       "\n",
       "    .dataframe tbody tr th {\n",
       "        vertical-align: top;\n",
       "    }\n",
       "\n",
       "    .dataframe thead th {\n",
       "        text-align: right;\n",
       "    }\n",
       "</style>\n",
       "<table border=\"1\" class=\"dataframe\">\n",
       "  <thead>\n",
       "    <tr style=\"text-align: right;\">\n",
       "      <th>Ticker</th>\n",
       "      <th>GOOG</th>\n",
       "      <th>META</th>\n",
       "      <th>NVDA</th>\n",
       "      <th>TSLA</th>\n",
       "    </tr>\n",
       "    <tr>\n",
       "      <th>Date</th>\n",
       "      <th></th>\n",
       "      <th></th>\n",
       "      <th></th>\n",
       "      <th></th>\n",
       "    </tr>\n",
       "  </thead>\n",
       "  <tbody>\n",
       "    <tr>\n",
       "      <th>2021-10-25</th>\n",
       "      <td>138.772995</td>\n",
       "      <td>328.690002</td>\n",
       "      <td>23.166000</td>\n",
       "      <td>341.619995</td>\n",
       "    </tr>\n",
       "    <tr>\n",
       "      <th>2021-10-26</th>\n",
       "      <td>139.671997</td>\n",
       "      <td>315.809998</td>\n",
       "      <td>24.716999</td>\n",
       "      <td>339.476654</td>\n",
       "    </tr>\n",
       "    <tr>\n",
       "      <th>2021-10-27</th>\n",
       "      <td>146.427505</td>\n",
       "      <td>312.220001</td>\n",
       "      <td>24.451000</td>\n",
       "      <td>345.953339</td>\n",
       "    </tr>\n",
       "    <tr>\n",
       "      <th>2021-10-28</th>\n",
       "      <td>146.128998</td>\n",
       "      <td>316.920013</td>\n",
       "      <td>24.941000</td>\n",
       "      <td>359.013336</td>\n",
       "    </tr>\n",
       "    <tr>\n",
       "      <th>2021-10-29</th>\n",
       "      <td>148.270493</td>\n",
       "      <td>323.570007</td>\n",
       "      <td>25.566999</td>\n",
       "      <td>371.333344</td>\n",
       "    </tr>\n",
       "  </tbody>\n",
       "</table>\n",
       "</div>"
      ],
      "text/plain": [
       "Ticker            GOOG        META       NVDA        TSLA\n",
       "Date                                                     \n",
       "2021-10-25  138.772995  328.690002  23.166000  341.619995\n",
       "2021-10-26  139.671997  315.809998  24.716999  339.476654\n",
       "2021-10-27  146.427505  312.220001  24.451000  345.953339\n",
       "2021-10-28  146.128998  316.920013  24.941000  359.013336\n",
       "2021-10-29  148.270493  323.570007  25.566999  371.333344"
      ]
     },
     "execution_count": 7,
     "metadata": {},
     "output_type": "execute_result"
    }
   ],
   "source": [
    "Close = df.Close\n",
    "Close.head()"
   ]
  },
  {
   "cell_type": "markdown",
   "id": "f238311e-eb62-472e-b475-7a4991e5d3fe",
   "metadata": {},
   "source": [
    "`# Get insights quickly with pandas describe method`"
   ]
  },
  {
   "cell_type": "code",
   "execution_count": 8,
   "id": "a3b9380f-6940-4a92-9d8a-9e8b5f4993ac",
   "metadata": {},
   "outputs": [
    {
     "data": {
      "text/html": [
       "<div>\n",
       "<style scoped>\n",
       "    .dataframe tbody tr th:only-of-type {\n",
       "        vertical-align: middle;\n",
       "    }\n",
       "\n",
       "    .dataframe tbody tr th {\n",
       "        vertical-align: top;\n",
       "    }\n",
       "\n",
       "    .dataframe thead th {\n",
       "        text-align: right;\n",
       "    }\n",
       "</style>\n",
       "<table border=\"1\" class=\"dataframe\">\n",
       "  <thead>\n",
       "    <tr style=\"text-align: right;\">\n",
       "      <th>Ticker</th>\n",
       "      <th>GOOG</th>\n",
       "      <th>META</th>\n",
       "      <th>NVDA</th>\n",
       "      <th>TSLA</th>\n",
       "    </tr>\n",
       "  </thead>\n",
       "  <tbody>\n",
       "    <tr>\n",
       "      <th>count</th>\n",
       "      <td>55.000000</td>\n",
       "      <td>55.000000</td>\n",
       "      <td>55.000000</td>\n",
       "      <td>55.000000</td>\n",
       "    </tr>\n",
       "    <tr>\n",
       "      <th>mean</th>\n",
       "      <td>178.862727</td>\n",
       "      <td>488.638273</td>\n",
       "      <td>113.602673</td>\n",
       "      <td>196.621545</td>\n",
       "    </tr>\n",
       "    <tr>\n",
       "      <th>std</th>\n",
       "      <td>6.424075</td>\n",
       "      <td>22.714064</td>\n",
       "      <td>15.953184</td>\n",
       "      <td>30.784877</td>\n",
       "    </tr>\n",
       "    <tr>\n",
       "      <th>min</th>\n",
       "      <td>165.570007</td>\n",
       "      <td>439.190002</td>\n",
       "      <td>83.041000</td>\n",
       "      <td>168.470001</td>\n",
       "    </tr>\n",
       "    <tr>\n",
       "      <th>10%</th>\n",
       "      <td>171.003998</td>\n",
       "      <td>465.719995</td>\n",
       "      <td>90.404202</td>\n",
       "      <td>173.869998</td>\n",
       "    </tr>\n",
       "    <tr>\n",
       "      <th>50%</th>\n",
       "      <td>178.020004</td>\n",
       "      <td>489.790009</td>\n",
       "      <td>120.888000</td>\n",
       "      <td>180.110001</td>\n",
       "    </tr>\n",
       "    <tr>\n",
       "      <th>90%</th>\n",
       "      <td>187.354001</td>\n",
       "      <td>512.952002</td>\n",
       "      <td>130.312000</td>\n",
       "      <td>250.604001</td>\n",
       "    </tr>\n",
       "    <tr>\n",
       "      <th>max</th>\n",
       "      <td>192.660004</td>\n",
       "      <td>539.909973</td>\n",
       "      <td>135.580002</td>\n",
       "      <td>263.260010</td>\n",
       "    </tr>\n",
       "  </tbody>\n",
       "</table>\n",
       "</div>"
      ],
      "text/plain": [
       "Ticker        GOOG        META        NVDA        TSLA\n",
       "count    55.000000   55.000000   55.000000   55.000000\n",
       "mean    178.862727  488.638273  113.602673  196.621545\n",
       "std       6.424075   22.714064   15.953184   30.784877\n",
       "min     165.570007  439.190002   83.041000  168.470001\n",
       "10%     171.003998  465.719995   90.404202  173.869998\n",
       "50%     178.020004  489.790009  120.888000  180.110001\n",
       "90%     187.354001  512.952002  130.312000  250.604001\n",
       "max     192.660004  539.909973  135.580002  263.260010"
      ]
     },
     "execution_count": 8,
     "metadata": {},
     "output_type": "execute_result"
    }
   ],
   "source": [
    "Close[Close.index > end - dt.timedelta(days=80)].describe(percentiles=[0.1,0.5,0.9])"
   ]
  },
  {
   "cell_type": "markdown",
   "id": "e36ea6c9-228a-47fd-aa53-714f172a1270",
   "metadata": {},
   "source": [
    "`# Plotting with matplotlib vs plotly`"
   ]
  },
  {
   "cell_type": "code",
   "execution_count": 9,
   "id": "63d1c5f2-363d-4197-a462-6619a16febfd",
   "metadata": {},
   "outputs": [
    {
     "data": {
      "text/plain": [
       "<Axes: xlabel='Date'>"
      ]
     },
     "execution_count": 9,
     "metadata": {},
     "output_type": "execute_result"
    },
    {
     "data": {
      "image/png": "[encoded data removed]",
      "text/plain": [
       "<Figure size 640x480 with 1 Axes>"
      ]
     },
     "metadata": {},
     "output_type": "display_data"
    }
   ],
   "source": [
    "Close.plot()"
   ]
  },
  {
   "cell_type": "code",
   "execution_count": 10,
   "id": "de43b29f-a24c-4da6-a041-4fcd3184a7ea",
   "metadata": {},
   "outputs": [],
   "source": [
    "import plotly.io as pio\n",
    "pio.renderers.default = 'iframe'\n",
    "pd.options.plotting.backend = \"plotly\""
   ]
  },
  {
   "cell_type": "code",
   "execution_count": 11,
   "id": "9a1cf28b-4a9e-45ac-99db-d824cff9ff4e",
   "metadata": {},
   "outputs": [
    {
     "data": {
      "text/html": [
       "<iframe\n",
       "    scrolling=\"no\"\n",
       "    width=\"100%\"\n",
       "    height=\"545px\"\n",
       "    src=\"iframe_figures/figure_11.html\"\n",
       "    frameborder=\"0\"\n",
       "    allowfullscreen\n",
       "></iframe>\n"
      ]
     },
     "metadata": {},
     "output_type": "display_data"
    }
   ],
   "source": [
    "Close.plot()"
   ]
  },
  {
   "cell_type": "code",
   "execution_count": 12,
   "id": "1bc98cb2-e140-4c47-bf6b-5266a915a6ae",
   "metadata": {},
   "outputs": [
    {
     "data": {
      "text/html": [
       "<iframe\n",
       "    scrolling=\"no\"\n",
       "    width=\"100%\"\n",
       "    height=\"545px\"\n",
       "    src=\"iframe_figures/figure_12.html\"\n",
       "    frameborder=\"0\"\n",
       "    allowfullscreen\n",
       "></iframe>\n"
      ]
     },
     "metadata": {},
     "output_type": "display_data"
    }
   ],
   "source": [
    "Close['NVDA'].pct_change().dropna().plot(kind='hist')"
   ]
  }
 ],
 "metadata": {
  "kernelspec": {
   "display_name": "Python 3 (ipykernel)",
   "language": "python",
   "name": "python3"
  },
  "language_info": {
   "codemirror_mode": {
    "name": "ipython",
    "version": 3
   },
   "file_extension": ".py",
   "mimetype": "text/x-python",
   "name": "python",
   "nbconvert_exporter": "python",
   "pygments_lexer": "ipython3",
   "version": "3.10.14"
  }
 },
 "nbformat": 4,
 "nbformat_minor": 5
}
