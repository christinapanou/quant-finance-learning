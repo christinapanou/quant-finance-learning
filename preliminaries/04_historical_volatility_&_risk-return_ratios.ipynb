{
 "cells": [
  {
   "cell_type": "markdown",
   "id": "45497ea2-2c6e-4acd-8153-1c950707b282",
   "metadata": {},
   "source": [
    "`# Import dependencies`"
   ]
  },
  {
   "cell_type": "code",
   "execution_count": 1,
   "id": "05b25797-8ae5-4e3a-ba2e-3ddad46c030b",
   "metadata": {},
   "outputs": [],
   "source": [
    "import datetime as dt\n",
    "import pandas as pd\n",
    "import numpy as np\n",
    "import yfinance as yf\n",
    "from pandas_datareader import data as pdr\n",
    "import matplotlib\n",
    "import plotly.io as pio\n",
    "import plotly.graph_objects as go\n",
    "from plotly.subplots import make_subplots\n",
    "\n",
    "pio.renderers.default = 'iframe'\n",
    "pd.options.plotting.backend = 'plotly'"
   ]
  },
  {
   "cell_type": "markdown",
   "id": "43ba96fc-4093-4546-8789-3df8591b81d6",
   "metadata": {},
   "source": [
    "`# Get stock market data`"
   ]
  },
  {
   "cell_type": "code",
   "execution_count": 2,
   "id": "78c91ff1-cee7-4845-9fad-dd79e3d1e32f",
   "metadata": {},
   "outputs": [
    {
     "name": "stdout",
     "output_type": "stream",
     "text": [
      "yfinance: pandas_datareader support is deprecated & semi-broken so will be removed in a future verison. Just use yfinance.\n"
     ]
    },
    {
     "name": "stderr",
     "output_type": "stream",
     "text": [
      "[*********************100%%**********************]  4 of 4 completed\n"
     ]
    },
    {
     "data": {
      "text/html": [
       "<div>\n",
       "<style scoped>\n",
       "    .dataframe tbody tr th:only-of-type {\n",
       "        vertical-align: middle;\n",
       "    }\n",
       "\n",
       "    .dataframe tbody tr th {\n",
       "        vertical-align: top;\n",
       "    }\n",
       "\n",
       "    .dataframe thead th {\n",
       "        text-align: right;\n",
       "    }\n",
       "</style>\n",
       "<table border=\"1\" class=\"dataframe\">\n",
       "  <thead>\n",
       "    <tr style=\"text-align: right;\">\n",
       "      <th>Ticker</th>\n",
       "      <th>GOOG</th>\n",
       "      <th>META</th>\n",
       "      <th>NVDA</th>\n",
       "      <th>TSLA</th>\n",
       "    </tr>\n",
       "    <tr>\n",
       "      <th>Date</th>\n",
       "      <th></th>\n",
       "      <th></th>\n",
       "      <th></th>\n",
       "      <th></th>\n",
       "    </tr>\n",
       "  </thead>\n",
       "  <tbody>\n",
       "    <tr>\n",
       "      <th>2015-01-02</th>\n",
       "      <td>26.168653</td>\n",
       "      <td>78.449997</td>\n",
       "      <td>0.50325</td>\n",
       "      <td>14.620667</td>\n",
       "    </tr>\n",
       "    <tr>\n",
       "      <th>2015-01-05</th>\n",
       "      <td>25.623152</td>\n",
       "      <td>77.190002</td>\n",
       "      <td>0.49475</td>\n",
       "      <td>14.006000</td>\n",
       "    </tr>\n",
       "    <tr>\n",
       "      <th>2015-01-06</th>\n",
       "      <td>25.029282</td>\n",
       "      <td>76.150002</td>\n",
       "      <td>0.47975</td>\n",
       "      <td>14.085333</td>\n",
       "    </tr>\n",
       "    <tr>\n",
       "      <th>2015-01-07</th>\n",
       "      <td>24.986401</td>\n",
       "      <td>76.150002</td>\n",
       "      <td>0.47850</td>\n",
       "      <td>14.063333</td>\n",
       "    </tr>\n",
       "    <tr>\n",
       "      <th>2015-01-08</th>\n",
       "      <td>25.065184</td>\n",
       "      <td>78.180000</td>\n",
       "      <td>0.49650</td>\n",
       "      <td>14.041333</td>\n",
       "    </tr>\n",
       "  </tbody>\n",
       "</table>\n",
       "</div>"
      ],
      "text/plain": [
       "Ticker           GOOG       META     NVDA       TSLA\n",
       "Date                                                \n",
       "2015-01-02  26.168653  78.449997  0.50325  14.620667\n",
       "2015-01-05  25.623152  77.190002  0.49475  14.006000\n",
       "2015-01-06  25.029282  76.150002  0.47975  14.085333\n",
       "2015-01-07  24.986401  76.150002  0.47850  14.063333\n",
       "2015-01-08  25.065184  78.180000  0.49650  14.041333"
      ]
     },
     "execution_count": 2,
     "metadata": {},
     "output_type": "execute_result"
    }
   ],
   "source": [
    "end = dt.datetime.now()\n",
    "start = dt.datetime(2015,1,1)\n",
    "\n",
    "yf.pdr_override()\n",
    "df = pdr.get_data_yahoo([\"NVDA\", \"GOOG\", \"META\", \"TSLA\"], start, end)\n",
    "Close = df.Close\n",
    "Close.head()"
   ]
  },
  {
   "cell_type": "markdown",
   "id": "83620c38-07c3-4610-8173-ebdfcb68a938",
   "metadata": {},
   "source": [
    "`# Compute log returns`"
   ]
  },
  {
   "cell_type": "code",
   "execution_count": 3,
   "id": "240684e5-06cf-47f8-9eed-fb87fa60ceee",
   "metadata": {},
   "outputs": [],
   "source": [
    "log_returns = np.log(df.Close/df.Close.shift(1)).dropna()"
   ]
  },
  {
   "cell_type": "markdown",
   "id": "b2c620a1-f104-4e95-8b41-1a2c8bfa5d80",
   "metadata": {},
   "source": [
    "`# Calculate daily standard deviation of returns`"
   ]
  },
  {
   "cell_type": "code",
   "execution_count": 4,
   "id": "b72a81fd-53d6-474f-a884-8b6ca8eb15bd",
   "metadata": {},
   "outputs": [
    {
     "data": {
      "text/plain": [
       "Ticker\n",
       "GOOG    0.017929\n",
       "META    0.024101\n",
       "NVDA    0.030254\n",
       "TSLA    0.035467\n",
       "dtype: float64"
      ]
     },
     "execution_count": 4,
     "metadata": {},
     "output_type": "execute_result"
    }
   ],
   "source": [
    "daily_std = log_returns.std()\n",
    "daily_std"
   ]
  },
  {
   "cell_type": "markdown",
   "id": "c510e19c-e2a7-4867-98b8-cca80e5137d8",
   "metadata": {},
   "source": [
    "`# Compute annualized volatility`"
   ]
  },
  {
   "cell_type": "code",
   "execution_count": 5,
   "id": "33ed37b0-1deb-4e5d-860e-0b07fbd4d515",
   "metadata": {},
   "outputs": [
    {
     "data": {
      "text/plain": [
       "Ticker\n",
       "GOOG    28.461731\n",
       "META    38.259590\n",
       "NVDA    48.027502\n",
       "TSLA    56.301910\n",
       "dtype: float64"
      ]
     },
     "execution_count": 5,
     "metadata": {},
     "output_type": "execute_result"
    }
   ],
   "source": [
    "annualized_vol = daily_std * np.sqrt(252)\n",
    "annualized_vol*100"
   ]
  },
  {
   "cell_type": "markdown",
   "id": "70540690-c709-4af7-a8ec-8bd90c08f79f",
   "metadata": {},
   "source": [
    "`# Plot histogram of log returns with annualized volatility`"
   ]
  },
  {
   "cell_type": "code",
   "execution_count": 6,
   "id": "00babab5-44e6-41a6-a802-ecc3a244e72c",
   "metadata": {},
   "outputs": [
    {
     "data": {
      "text/html": [
       "<iframe\n",
       "    scrolling=\"no\"\n",
       "    width=\"100%\"\n",
       "    height=\"545px\"\n",
       "    src=\"iframe_figures/figure_6.html\"\n",
       "    frameborder=\"0\"\n",
       "    allowfullscreen\n",
       "></iframe>\n"
      ]
     },
     "metadata": {},
     "output_type": "display_data"
    }
   ],
   "source": [
    "fig = make_subplots(rows = 2, cols = 2)\n",
    "\n",
    "trace0 = go.Histogram(x = log_returns['GOOG'], name = 'GOOG')\n",
    "trace1 = go.Histogram(x = log_returns['META'], name = 'META')\n",
    "trace2 = go.Histogram(x = log_returns['NVDA'], name = 'NVDA')\n",
    "trace3 = go.Histogram(x = log_returns['TSLA'], name = 'TSLA')\n",
    "\n",
    "fig.append_trace(trace0, 1, 1)\n",
    "fig.append_trace(trace1, 1, 2)\n",
    "fig.append_trace(trace2, 2, 1)\n",
    "fig.append_trace(trace3, 2, 2)\n",
    "\n",
    "fig.update_layout(title = 'Frequency of log returns',\n",
    "                  xaxis = dict(title = 'GOOG Annualized Vol: ' + str(np.round(annualized_vol['GOOG']*100,1))), \n",
    "                  xaxis2 = dict(title = 'META Annualized Vol: ' + str(np.round(annualized_vol['META']*100,1))),\n",
    "                  xaxis3 = dict(title = 'NVDA Annualized Vol: ' + str(np.round(annualized_vol['NVDA']*100,1))),\n",
    "                  xaxis4 = dict(title = 'TSLA Annualized Vol: ' + str(np.round(annualized_vol['TSLA']*100,1))),\n",
    "                 )\n",
    "\n",
    "fig.show()"
   ]
  },
  {
   "cell_type": "markdown",
   "id": "97f9a65f-15ac-43ca-8906-02c661e4dc11",
   "metadata": {},
   "source": [
    "`# Trailing volatility over time`"
   ]
  },
  {
   "cell_type": "code",
   "execution_count": 7,
   "id": "1492d0e6-b9b1-4fbd-bccd-5c5a9d23c0ca",
   "metadata": {},
   "outputs": [],
   "source": [
    "TRADING_DAYS = 60\n",
    "volatility = log_returns.rolling(window = TRADING_DAYS).std()*np.sqrt(TRADING_DAYS)"
   ]
  },
  {
   "cell_type": "code",
   "execution_count": 8,
   "id": "b087c381-1ae6-4405-bace-27432b401db3",
   "metadata": {},
   "outputs": [
    {
     "data": {
      "text/html": [
       "<iframe\n",
       "    scrolling=\"no\"\n",
       "    width=\"100%\"\n",
       "    height=\"545px\"\n",
       "    src=\"iframe_figures/figure_8.html\"\n",
       "    frameborder=\"0\"\n",
       "    allowfullscreen\n",
       "></iframe>\n"
      ]
     },
     "metadata": {},
     "output_type": "display_data"
    }
   ],
   "source": [
    "volatility.plot()"
   ]
  },
  {
   "cell_type": "markdown",
   "id": "40b5c432-033d-4bd6-9a04-feeab44dd492",
   "metadata": {},
   "source": [
    "`# Sharpe ratio`"
   ]
  },
  {
   "cell_type": "code",
   "execution_count": 9,
   "id": "5144a5f9-506b-4717-9adc-863410c2dec4",
   "metadata": {},
   "outputs": [
    {
     "data": {
      "text/html": [
       "<iframe\n",
       "    scrolling=\"no\"\n",
       "    width=\"100%\"\n",
       "    height=\"545px\"\n",
       "    src=\"iframe_figures/figure_9.html\"\n",
       "    frameborder=\"0\"\n",
       "    allowfullscreen\n",
       "></iframe>\n"
      ]
     },
     "metadata": {},
     "output_type": "display_data"
    }
   ],
   "source": [
    "Rf = 0.01/252\n",
    "sharpe_ratio = (log_returns.rolling(window = TRADING_DAYS).mean() - Rf)*TRADING_DAYS/volatility\n",
    "sharpe_ratio.plot()"
   ]
  },
  {
   "cell_type": "markdown",
   "id": "7afdd68a-57d1-445e-9dde-f4bf733eb5c7",
   "metadata": {},
   "source": [
    "`# Sortino Ratio`"
   ]
  },
  {
   "cell_type": "code",
   "execution_count": 10,
   "id": "7ba4df3f-5458-452f-ba85-de2fa5562f11",
   "metadata": {},
   "outputs": [
    {
     "data": {
      "text/html": [
       "<iframe\n",
       "    scrolling=\"no\"\n",
       "    width=\"100%\"\n",
       "    height=\"545px\"\n",
       "    src=\"iframe_figures/figure_10.html\"\n",
       "    frameborder=\"0\"\n",
       "    allowfullscreen\n",
       "></iframe>\n"
      ]
     },
     "metadata": {},
     "output_type": "display_data"
    }
   ],
   "source": [
    "sortino_vol = log_returns[log_returns < 0].rolling(window = TRADING_DAYS, min_periods = 15).std()*np.sqrt(TRADING_DAYS)\n",
    "sortino_vol.plot()"
   ]
  },
  {
   "cell_type": "code",
   "execution_count": 11,
   "id": "6b67c4b8-0521-4ae3-8eeb-39923aa94c11",
   "metadata": {},
   "outputs": [
    {
     "data": {
      "text/html": [
       "<iframe\n",
       "    scrolling=\"no\"\n",
       "    width=\"100%\"\n",
       "    height=\"545px\"\n",
       "    src=\"iframe_figures/figure_11.html\"\n",
       "    frameborder=\"0\"\n",
       "    allowfullscreen\n",
       "></iframe>\n"
      ]
     },
     "metadata": {},
     "output_type": "display_data"
    }
   ],
   "source": [
    "sortino_ratio = (log_returns.rolling(window = TRADING_DAYS).mean() - Rf)*TRADING_DAYS/sortino_vol\n",
    "sortino_ratio.plot()"
   ]
  },
  {
   "cell_type": "markdown",
   "id": "32a8029c-8e7a-4ff9-b57b-bd4a15f32d5e",
   "metadata": {},
   "source": [
    "`# Modiligliani ratio (M2 ratio)`"
   ]
  },
  {
   "cell_type": "code",
   "execution_count": 12,
   "id": "d6c56e49-df4c-49c3-b6d6-f6bb66442782",
   "metadata": {},
   "outputs": [
    {
     "data": {
      "text/html": [
       "<iframe\n",
       "    scrolling=\"no\"\n",
       "    width=\"100%\"\n",
       "    height=\"545px\"\n",
       "    src=\"iframe_figures/figure_12.html\"\n",
       "    frameborder=\"0\"\n",
       "    allowfullscreen\n",
       "></iframe>\n"
      ]
     },
     "metadata": {},
     "output_type": "display_data"
    }
   ],
   "source": [
    "m2_ratio = pd.DataFrame()\n",
    "\n",
    "benchmark_vol = volatility['GOOG']\n",
    "for c in log_returns.columns:\n",
    "    if c != 'GOOG':\n",
    "        m2_ratio[c] = (sharpe_ratio[c]*benchmark_vol/TRADING_DAYS + Rf)*TRADING_DAYS\n",
    "\n",
    "m2_ratio.plot()"
   ]
  },
  {
   "cell_type": "markdown",
   "id": "22235c32-485a-4547-af48-5775c95d791f",
   "metadata": {},
   "source": [
    "`# Max Drawdown`"
   ]
  },
  {
   "cell_type": "code",
   "execution_count": 13,
   "id": "ed645ca8-a388-4e82-8080-2c17105eedf6",
   "metadata": {},
   "outputs": [
    {
     "data": {
      "text/plain": [
       "Ticker\n",
       "GOOG   -44.601850\n",
       "META   -76.736092\n",
       "NVDA   -66.362055\n",
       "TSLA   -73.632217\n",
       "dtype: float64"
      ]
     },
     "execution_count": 13,
     "metadata": {},
     "output_type": "execute_result"
    }
   ],
   "source": [
    "def max_drawdown(returns):\n",
    "    cumulative_returns = (1 + returns).cumprod()\n",
    "    peak = cumulative_returns.expanding(min_periods = 1).max()\n",
    "    drawdown = (cumulative_returns/peak) - 1\n",
    "    return drawdown.min()\n",
    "\n",
    "returns = df.Close.pct_change().dropna()\n",
    "max_drawdowns = returns.apply(max_drawdown, axis = 0)\n",
    "max_drawdowns*100    "
   ]
  },
  {
   "cell_type": "markdown",
   "id": "a2704553-3eab-4afc-a3b2-73744996795c",
   "metadata": {},
   "source": [
    "`# Calmar ratio`"
   ]
  },
  {
   "cell_type": "code",
   "execution_count": 14,
   "id": "10dd72c2-0edc-487a-a213-9fd8bb85b2c0",
   "metadata": {},
   "outputs": [
    {
     "data": {
      "text/html": [
       "<iframe\n",
       "    scrolling=\"no\"\n",
       "    width=\"100%\"\n",
       "    height=\"545px\"\n",
       "    src=\"iframe_figures/figure_14.html\"\n",
       "    frameborder=\"0\"\n",
       "    allowfullscreen\n",
       "></iframe>\n"
      ]
     },
     "metadata": {},
     "output_type": "display_data"
    }
   ],
   "source": [
    "calmars = np.exp(log_returns.mean()*252)/abs(max_drawdowns) \n",
    "calmars.plot.bar()"
   ]
  }
 ],
 "metadata": {
  "kernelspec": {
   "display_name": "Python 3 (ipykernel)",
   "language": "python",
   "name": "python3"
  },
  "language_info": {
   "codemirror_mode": {
    "name": "ipython",
    "version": 3
   },
   "file_extension": ".py",
   "mimetype": "text/x-python",
   "name": "python",
   "nbconvert_exporter": "python",
   "pygments_lexer": "ipython3",
   "version": "3.10.14"
  }
 },
 "nbformat": 4,
 "nbformat_minor": 5
}
