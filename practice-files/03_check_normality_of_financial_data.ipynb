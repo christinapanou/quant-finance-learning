{
 "cells": [
  {
   "cell_type": "markdown",
   "id": "360c07a9-9287-40c7-a30e-df3a607bab4f",
   "metadata": {},
   "source": [
    "`# Import dependencies`"
   ]
  },
  {
   "cell_type": "code",
   "execution_count": 5,
   "id": "cc371e88-e1f2-46c3-8020-093ac7dd7f12",
   "metadata": {},
   "outputs": [],
   "source": [
    "import datetime as dt\n",
    "import pandas as pd\n",
    "import numpy as np\n",
    "import pylab\n",
    "import seaborn as sns\n",
    "import scipy.stats as stats\n",
    "import yfinance as yf\n",
    "from pandas_datareader import data as pdr\n",
    "import matplotlib\n",
    "import plotly.io as pio\n",
    "\n",
    "pio.renderers.default = 'iframe'\n",
    "pd.options.plotting.backend = 'plotly'"
   ]
  },
  {
   "cell_type": "markdown",
   "id": "26865de5-cc9d-4fad-8313-54d598d0c884",
   "metadata": {},
   "source": [
    "`# Get stock market data`"
   ]
  },
  {
   "cell_type": "code",
   "execution_count": 6,
   "id": "872d1f49-286c-4296-9f69-0595fa35db74",
   "metadata": {
    "scrolled": true
   },
   "outputs": [
    {
     "name": "stdout",
     "output_type": "stream",
     "text": [
      "yfinance: pandas_datareader support is deprecated & semi-broken so will be removed in a future verison. Just use yfinance.\n"
     ]
    },
    {
     "name": "stderr",
     "output_type": "stream",
     "text": [
      "[*********************100%%**********************]  1 of 1 completed\n"
     ]
    },
    {
     "data": {
      "text/html": [
       "<div>\n",
       "<style scoped>\n",
       "    .dataframe tbody tr th:only-of-type {\n",
       "        vertical-align: middle;\n",
       "    }\n",
       "\n",
       "    .dataframe tbody tr th {\n",
       "        vertical-align: top;\n",
       "    }\n",
       "\n",
       "    .dataframe thead th {\n",
       "        text-align: right;\n",
       "    }\n",
       "</style>\n",
       "<table border=\"1\" class=\"dataframe\">\n",
       "  <thead>\n",
       "    <tr style=\"text-align: right;\">\n",
       "      <th></th>\n",
       "      <th>Open</th>\n",
       "      <th>High</th>\n",
       "      <th>Low</th>\n",
       "      <th>Close</th>\n",
       "      <th>Adj Close</th>\n",
       "      <th>Volume</th>\n",
       "    </tr>\n",
       "    <tr>\n",
       "      <th>Date</th>\n",
       "      <th></th>\n",
       "      <th></th>\n",
       "      <th></th>\n",
       "      <th></th>\n",
       "      <th></th>\n",
       "      <th></th>\n",
       "    </tr>\n",
       "  </thead>\n",
       "  <tbody>\n",
       "    <tr>\n",
       "      <th>2018-01-02</th>\n",
       "      <td>4.89450</td>\n",
       "      <td>4.98750</td>\n",
       "      <td>4.86250</td>\n",
       "      <td>4.98375</td>\n",
       "      <td>4.930643</td>\n",
       "      <td>355616000</td>\n",
       "    </tr>\n",
       "    <tr>\n",
       "      <th>2018-01-03</th>\n",
       "      <td>5.10250</td>\n",
       "      <td>5.34250</td>\n",
       "      <td>5.09375</td>\n",
       "      <td>5.31175</td>\n",
       "      <td>5.255147</td>\n",
       "      <td>914704000</td>\n",
       "    </tr>\n",
       "    <tr>\n",
       "      <th>2018-01-04</th>\n",
       "      <td>5.39400</td>\n",
       "      <td>5.45125</td>\n",
       "      <td>5.31725</td>\n",
       "      <td>5.33975</td>\n",
       "      <td>5.282849</td>\n",
       "      <td>583268000</td>\n",
       "    </tr>\n",
       "    <tr>\n",
       "      <th>2018-01-05</th>\n",
       "      <td>5.35475</td>\n",
       "      <td>5.42275</td>\n",
       "      <td>5.27700</td>\n",
       "      <td>5.38500</td>\n",
       "      <td>5.327617</td>\n",
       "      <td>580124000</td>\n",
       "    </tr>\n",
       "    <tr>\n",
       "      <th>2018-01-08</th>\n",
       "      <td>5.51000</td>\n",
       "      <td>5.62500</td>\n",
       "      <td>5.46450</td>\n",
       "      <td>5.55000</td>\n",
       "      <td>5.490859</td>\n",
       "      <td>881216000</td>\n",
       "    </tr>\n",
       "  </tbody>\n",
       "</table>\n",
       "</div>"
      ],
      "text/plain": [
       "               Open     High      Low    Close  Adj Close     Volume\n",
       "Date                                                                \n",
       "2018-01-02  4.89450  4.98750  4.86250  4.98375   4.930643  355616000\n",
       "2018-01-03  5.10250  5.34250  5.09375  5.31175   5.255147  914704000\n",
       "2018-01-04  5.39400  5.45125  5.31725  5.33975   5.282849  583268000\n",
       "2018-01-05  5.35475  5.42275  5.27700  5.38500   5.327617  580124000\n",
       "2018-01-08  5.51000  5.62500  5.46450  5.55000   5.490859  881216000"
      ]
     },
     "execution_count": 6,
     "metadata": {},
     "output_type": "execute_result"
    }
   ],
   "source": [
    "end = dt.datetime.now()\n",
    "start = dt.datetime(2018,1,1)\n",
    "\n",
    "yf.pdr_override()\n",
    "df = pdr.get_data_yahoo('NVDA', start, end)\n",
    "df.head()"
   ]
  },
  {
   "cell_type": "markdown",
   "id": "ae7f6753-59aa-41ef-9963-5d9ff1abacd0",
   "metadata": {},
   "source": [
    "`# Calculate daily simple returns`"
   ]
  },
  {
   "cell_type": "code",
   "execution_count": 12,
   "id": "551e6506-4c2b-467c-a632-832a75e89b3b",
   "metadata": {},
   "outputs": [
    {
     "data": {
      "text/plain": [
       "Date\n",
       "2018-01-03    0.065814\n",
       "2018-01-04    0.005271\n",
       "2018-01-05    0.008474\n",
       "2018-01-08    0.030641\n",
       "2018-01-09   -0.000270\n",
       "                ...   \n",
       "2024-07-15   -0.006190\n",
       "2024-07-16   -0.016194\n",
       "2024-07-17   -0.066239\n",
       "2024-07-18    0.026273\n",
       "2024-07-19   -0.026096\n",
       "Name: Close, Length: 1646, dtype: float64"
      ]
     },
     "execution_count": 12,
     "metadata": {},
     "output_type": "execute_result"
    }
   ],
   "source": [
    "simple_returns = df.Close.pct_change().dropna()\n",
    "simple_returns"
   ]
  },
  {
   "cell_type": "markdown",
   "id": "f05517c9-469d-40e4-acb1-ffc999ea6108",
   "metadata": {},
   "source": [
    "`# Calculate daily log returns`"
   ]
  },
  {
   "cell_type": "code",
   "execution_count": 14,
   "id": "9e52ed58-9b80-46b5-b0ff-c44d70ed9806",
   "metadata": {},
   "outputs": [
    {
     "data": {
      "text/plain": [
       "Date\n",
       "2018-01-03    0.063739\n",
       "2018-01-04    0.005257\n",
       "2018-01-05    0.008439\n",
       "2018-01-08    0.030181\n",
       "2018-01-09   -0.000270\n",
       "                ...   \n",
       "2024-07-15   -0.006209\n",
       "2024-07-16   -0.016327\n",
       "2024-07-17   -0.068535\n",
       "2024-07-18    0.025934\n",
       "2024-07-19   -0.026443\n",
       "Name: Close, Length: 1646, dtype: float64"
      ]
     },
     "execution_count": 14,
     "metadata": {},
     "output_type": "execute_result"
    }
   ],
   "source": [
    "log_returns = np.log(df.Close/df.Close.shift(1)).dropna()\n",
    "log_returns"
   ]
  },
  {
   "cell_type": "markdown",
   "id": "cf5fb77f-92f1-4244-8f26-73bfeceece47",
   "metadata": {},
   "source": [
    "`# Histogram of log returns`"
   ]
  },
  {
   "cell_type": "code",
   "execution_count": 16,
   "id": "fa8c3bc5-1e1d-4f7b-b084-8af0f627ce20",
   "metadata": {},
   "outputs": [
    {
     "data": {
      "text/html": [
       "<iframe\n",
       "    scrolling=\"no\"\n",
       "    width=\"100%\"\n",
       "    height=\"545px\"\n",
       "    src=\"iframe_figures/figure_16.html\"\n",
       "    frameborder=\"0\"\n",
       "    allowfullscreen\n",
       "></iframe>\n"
      ]
     },
     "metadata": {},
     "output_type": "display_data"
    }
   ],
   "source": [
    "log_returns.plot(kind = 'hist')"
   ]
  },
  {
   "cell_type": "markdown",
   "id": "7dce76d1-1080-471a-a6cf-e1bb2f77c218",
   "metadata": {},
   "source": [
    "`# Check normality assumption for financial data`"
   ]
  },
  {
   "cell_type": "code",
   "execution_count": 28,
   "id": "08c4405c-89b9-4a0e-8ca4-fa93dfc9f016",
   "metadata": {},
   "outputs": [
    {
     "name": "stdout",
     "output_type": "stream",
     "text": [
      "Std dev worst -6.47 best 6.676274\n",
      "Probability worst 0.000000000315 best 0.000000000084\n"
     ]
    }
   ],
   "source": [
    "log_returns_sorted = log_returns.tolist()\n",
    "log_returns_sorted.sort()\n",
    "worst = log_returns_sorted[0]\n",
    "best = log_returns_sorted[-1]\n",
    "\n",
    "std_worst = (worst - log_returns.mean())/log_returns.std()\n",
    "std_best = (best - log_returns.mean())/log_returns.std()\n",
    "\n",
    "print('Std dev worst %.2f best %2f' %(std_worst, std_best))\n",
    "print('Probability worst %.12f best %.12f' %(stats.norm(0,1).pdf(std_worst), stats.norm(0,1).pdf(std_best)))"
   ]
  },
  {
   "cell_type": "markdown",
   "id": "4bdc4796-89a9-48c6-9a0d-a1a301c9dba4",
   "metadata": {},
   "source": [
    "`# Q-Q plot`"
   ]
  },
  {
   "cell_type": "code",
   "execution_count": 29,
   "id": "531070e6-8aeb-4cd0-87a8-c3fc66960d9b",
   "metadata": {},
   "outputs": [
    {
     "name": "stdout",
     "output_type": "stream",
     "text": [
      "Q-Q Plot\n"
     ]
    },
    {
     "data": {
      "image/png": "[encoded data removed]",
      "text/plain": [
       "<Figure size 640x480 with 1 Axes>"
      ]
     },
     "metadata": {},
     "output_type": "display_data"
    }
   ],
   "source": [
    "stats.probplot(log_returns, dist = 'norm', plot = pylab)\n",
    "print('Q-Q Plot')"
   ]
  },
  {
   "cell_type": "markdown",
   "id": "07d8e369-7b2e-4f0c-ab37-3502dfc181d2",
   "metadata": {},
   "source": [
    " `# Box Plot`"
   ]
  },
  {
   "cell_type": "code",
   "execution_count": 30,
   "id": "eb36147f-f0e0-430f-810d-98b7f484450b",
   "metadata": {},
   "outputs": [
    {
     "data": {
      "text/html": [
       "<iframe\n",
       "    scrolling=\"no\"\n",
       "    width=\"100%\"\n",
       "    height=\"545px\"\n",
       "    src=\"iframe_figures/figure_30.html\"\n",
       "    frameborder=\"0\"\n",
       "    allowfullscreen\n",
       "></iframe>\n"
      ]
     },
     "metadata": {},
     "output_type": "display_data"
    }
   ],
   "source": [
    "log_returns.plot(kind = 'box')"
   ]
  },
  {
   "cell_type": "markdown",
   "id": "16ad0519-58a6-4647-848a-26c1e6294a87",
   "metadata": {},
   "source": [
    "`# Kolmogorov Smirnov test`"
   ]
  },
  {
   "cell_type": "code",
   "execution_count": 32,
   "id": "2ae933a9-dacd-4997-b244-0d6cdd7ec97c",
   "metadata": {},
   "outputs": [
    {
     "name": "stdout",
     "output_type": "stream",
     "text": [
      "0.4592950809072288 3.933296e-318\n",
      "Probably NOT Gaussian\n"
     ]
    }
   ],
   "source": [
    "ks_stat, p_value = stats.kstest(log_returns, 'norm')\n",
    "print(ks_stat, p_value)\n",
    "if p_value > 0.05:\n",
    "    print('Probably Gaussian')\n",
    "else:\n",
    "    print('Probably NOT Gaussian')"
   ]
  },
  {
   "cell_type": "markdown",
   "id": "a480b851-ccfc-493a-8502-eb33a238d03a",
   "metadata": {},
   "source": [
    "`# Shapiro Wilk test`"
   ]
  },
  {
   "cell_type": "code",
   "execution_count": 33,
   "id": "812f50bf-531a-4675-8ccf-a843d9df0fd6",
   "metadata": {},
   "outputs": [
    {
     "name": "stdout",
     "output_type": "stream",
     "text": [
      "0.9594973438218095 5.274439735485171e-21\n",
      "Probably NOT Gaussian\n"
     ]
    }
   ],
   "source": [
    "sw_stat, p_value = stats.shapiro(log_returns)\n",
    "print(sw_stat, p_value)\n",
    "if p_value > 0.05:\n",
    "    print('Probably Gaussian')\n",
    "else:\n",
    "    print('Probably NOT Gaussian')"
   ]
  }
 ],
 "metadata": {
  "kernelspec": {
   "display_name": "Python 3 (ipykernel)",
   "language": "python",
   "name": "python3"
  },
  "language_info": {
   "codemirror_mode": {
    "name": "ipython",
    "version": 3
   },
   "file_extension": ".py",
   "mimetype": "text/x-python",
   "name": "python",
   "nbconvert_exporter": "python",
   "pygments_lexer": "ipython3",
   "version": "3.10.14"
  }
 },
 "nbformat": 4,
 "nbformat_minor": 5
}
