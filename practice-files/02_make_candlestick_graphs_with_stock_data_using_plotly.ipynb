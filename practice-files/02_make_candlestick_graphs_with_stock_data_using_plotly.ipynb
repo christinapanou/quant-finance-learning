{
 "cells": [
  {
   "cell_type": "markdown",
   "id": "64cf1826-c37e-4ab5-a708-2bf73b29284d",
   "metadata": {},
   "source": [
    "`# Import dependencies`"
   ]
  },
  {
   "cell_type": "code",
   "execution_count": 1,
   "id": "4a3e341d-cf4a-46da-b82a-aa27b81b822a",
   "metadata": {},
   "outputs": [],
   "source": [
    "import datetime as dt\n",
    "import pandas as pd\n",
    "import yfinance as yf\n",
    "from pandas_datareader import data as pdr\n",
    "import matplotlib\n",
    "import plotly.io as pio\n",
    "import plotly.graph_objects as go\n",
    "from plotly.subplots import make_subplots\n",
    "\n",
    "pio.renderers.default = 'iframe'\n",
    "pd.options.plotting.backend = 'plotly'"
   ]
  },
  {
   "cell_type": "markdown",
   "id": "48b095ea-8de3-4f5d-977f-56f872323df5",
   "metadata": {},
   "source": [
    "`# Get stock market data`"
   ]
  },
  {
   "cell_type": "code",
   "execution_count": 2,
   "id": "c9d05293-363e-4838-9462-b6fc55584339",
   "metadata": {},
   "outputs": [
    {
     "name": "stdout",
     "output_type": "stream",
     "text": [
      "yfinance: pandas_datareader support is deprecated & semi-broken so will be removed in a future verison. Just use yfinance.\n"
     ]
    },
    {
     "name": "stderr",
     "output_type": "stream",
     "text": [
      "[*********************100%%**********************]  1 of 1 completed\n"
     ]
    },
    {
     "data": {
      "text/html": [
       "<div>\n",
       "<style scoped>\n",
       "    .dataframe tbody tr th:only-of-type {\n",
       "        vertical-align: middle;\n",
       "    }\n",
       "\n",
       "    .dataframe tbody tr th {\n",
       "        vertical-align: top;\n",
       "    }\n",
       "\n",
       "    .dataframe thead th {\n",
       "        text-align: right;\n",
       "    }\n",
       "</style>\n",
       "<table border=\"1\" class=\"dataframe\">\n",
       "  <thead>\n",
       "    <tr style=\"text-align: right;\">\n",
       "      <th></th>\n",
       "      <th>Open</th>\n",
       "      <th>High</th>\n",
       "      <th>Low</th>\n",
       "      <th>Close</th>\n",
       "      <th>Adj Close</th>\n",
       "      <th>Volume</th>\n",
       "    </tr>\n",
       "    <tr>\n",
       "      <th>Date</th>\n",
       "      <th></th>\n",
       "      <th></th>\n",
       "      <th></th>\n",
       "      <th></th>\n",
       "      <th></th>\n",
       "      <th></th>\n",
       "    </tr>\n",
       "  </thead>\n",
       "  <tbody>\n",
       "    <tr>\n",
       "      <th>2015-01-02</th>\n",
       "      <td>0.50325</td>\n",
       "      <td>0.50700</td>\n",
       "      <td>0.49525</td>\n",
       "      <td>0.50325</td>\n",
       "      <td>0.483218</td>\n",
       "      <td>113680000</td>\n",
       "    </tr>\n",
       "    <tr>\n",
       "      <th>2015-01-05</th>\n",
       "      <td>0.50325</td>\n",
       "      <td>0.50475</td>\n",
       "      <td>0.49250</td>\n",
       "      <td>0.49475</td>\n",
       "      <td>0.475056</td>\n",
       "      <td>197952000</td>\n",
       "    </tr>\n",
       "    <tr>\n",
       "      <th>2015-01-06</th>\n",
       "      <td>0.49550</td>\n",
       "      <td>0.49600</td>\n",
       "      <td>0.47925</td>\n",
       "      <td>0.47975</td>\n",
       "      <td>0.460654</td>\n",
       "      <td>197764000</td>\n",
       "    </tr>\n",
       "    <tr>\n",
       "      <th>2015-01-07</th>\n",
       "      <td>0.48325</td>\n",
       "      <td>0.48750</td>\n",
       "      <td>0.47700</td>\n",
       "      <td>0.47850</td>\n",
       "      <td>0.459453</td>\n",
       "      <td>321808000</td>\n",
       "    </tr>\n",
       "    <tr>\n",
       "      <th>2015-01-08</th>\n",
       "      <td>0.48400</td>\n",
       "      <td>0.49950</td>\n",
       "      <td>0.48375</td>\n",
       "      <td>0.49650</td>\n",
       "      <td>0.476737</td>\n",
       "      <td>283780000</td>\n",
       "    </tr>\n",
       "  </tbody>\n",
       "</table>\n",
       "</div>"
      ],
      "text/plain": [
       "               Open     High      Low    Close  Adj Close     Volume\n",
       "Date                                                                \n",
       "2015-01-02  0.50325  0.50700  0.49525  0.50325   0.483218  113680000\n",
       "2015-01-05  0.50325  0.50475  0.49250  0.49475   0.475056  197952000\n",
       "2015-01-06  0.49550  0.49600  0.47925  0.47975   0.460654  197764000\n",
       "2015-01-07  0.48325  0.48750  0.47700  0.47850   0.459453  321808000\n",
       "2015-01-08  0.48400  0.49950  0.48375  0.49650   0.476737  283780000"
      ]
     },
     "execution_count": 2,
     "metadata": {},
     "output_type": "execute_result"
    }
   ],
   "source": [
    "end = dt.datetime.now()\n",
    "start = dt.datetime(2015,1,1)\n",
    "\n",
    "yf.pdr_override()\n",
    "df = pdr.get_data_yahoo('NVDA', start, end)\n",
    "df.head()"
   ]
  },
  {
   "cell_type": "markdown",
   "id": "2580456c-ad02-4cd6-89d8-fab1d653bb4e",
   "metadata": {},
   "source": [
    "`# Create moving average terms`"
   ]
  },
  {
   "cell_type": "code",
   "execution_count": 3,
   "id": "e57ca5e3-66b2-47de-b84e-2b3f38677348",
   "metadata": {},
   "outputs": [
    {
     "data": {
      "text/plain": [
       "Date\n",
       "2015-01-02    0.503250\n",
       "2015-01-05    0.499000\n",
       "2015-01-06    0.492583\n",
       "2015-01-07    0.489063\n",
       "2015-01-08    0.490550\n",
       "Name: MA200, dtype: float64"
      ]
     },
     "execution_count": 3,
     "metadata": {},
     "output_type": "execute_result"
    }
   ],
   "source": [
    "df['MA50'] = df['Close'].rolling(window=50, min_periods=0).mean()\n",
    "df['MA200'] = df['Close'].rolling(window=200, min_periods=0).mean()\n",
    "df['MA200'].head()"
   ]
  },
  {
   "cell_type": "markdown",
   "id": "59a94460-6db0-4a7e-aeda-ed5080fb2dd6",
   "metadata": {},
   "source": [
    "`# Create plotly fig/subplot`"
   ]
  },
  {
   "cell_type": "code",
   "execution_count": 4,
   "id": "35a7808f-91f0-4c4c-b86d-ad4a4b861224",
   "metadata": {},
   "outputs": [],
   "source": [
    "fig = make_subplots(rows=2, cols=1, shared_xaxes=True,\n",
    "                   vertical_spacing=0.1, subplot_titles=('NVDA','Volume'),\n",
    "                   row_width=[0.2,0.7])"
   ]
  },
  {
   "cell_type": "markdown",
   "id": "ec19f456-85cb-4b63-9eff-5625c9fd3dcb",
   "metadata": {},
   "source": [
    "`# Add Open High Low Close candle stick graph`"
   ]
  },
  {
   "cell_type": "code",
   "execution_count": 5,
   "id": "1e7bc0af-675c-4b5b-ab32-8967f0f0b058",
   "metadata": {},
   "outputs": [
    {
     "data": {
      "text/html": [
       "<iframe\n",
       "    scrolling=\"no\"\n",
       "    width=\"100%\"\n",
       "    height=\"545px\"\n",
       "    src=\"iframe_figures/figure_5.html\"\n",
       "    frameborder=\"0\"\n",
       "    allowfullscreen\n",
       "></iframe>\n"
      ]
     },
     "metadata": {},
     "output_type": "display_data"
    }
   ],
   "source": [
    "fig.add_trace(go.Candlestick(x=df.index, open=df['Open'], high=df['High'], low=df['Low'], close=df['Close'], name='OHLC'), row=1, col=1)"
   ]
  },
  {
   "cell_type": "markdown",
   "id": "c093b4ca-0885-4eaf-9e86-5c05fa1ab323",
   "metadata": {},
   "source": [
    "`# Add Moving Average terms`"
   ]
  },
  {
   "cell_type": "code",
   "execution_count": 6,
   "id": "9e2a88aa-f1e6-44e6-aa92-97e142852672",
   "metadata": {},
   "outputs": [
    {
     "data": {
      "text/html": [
       "<iframe\n",
       "    scrolling=\"no\"\n",
       "    width=\"100%\"\n",
       "    height=\"545px\"\n",
       "    src=\"iframe_figures/figure_6.html\"\n",
       "    frameborder=\"0\"\n",
       "    allowfullscreen\n",
       "></iframe>\n"
      ]
     },
     "metadata": {},
     "output_type": "display_data"
    }
   ],
   "source": [
    "fig.add_trace(go.Scatter(x=df.index, y=df['MA50'], marker_color='grey', name='MA50'), row=1, col=1)\n",
    "fig.add_trace(go.Scatter(x=df.index, y=df['MA200'], marker_color='lightgrey', name='MA200'), row=1, col=1)"
   ]
  },
  {
   "cell_type": "markdown",
   "id": "86774c0d-c559-42b5-a113-9b3e5fd9705a",
   "metadata": {},
   "source": [
    "`# Add volume bar chart in subplot`"
   ]
  },
  {
   "cell_type": "code",
   "execution_count": 7,
   "id": "bb6700aa-f4f2-4d4f-90b9-3250f5550ca9",
   "metadata": {},
   "outputs": [
    {
     "data": {
      "text/html": [
       "<iframe\n",
       "    scrolling=\"no\"\n",
       "    width=\"100%\"\n",
       "    height=\"545px\"\n",
       "    src=\"iframe_figures/figure_7.html\"\n",
       "    frameborder=\"0\"\n",
       "    allowfullscreen\n",
       "></iframe>\n"
      ]
     },
     "metadata": {},
     "output_type": "display_data"
    }
   ],
   "source": [
    "fig.add_trace(go.Bar(x=df.index, y=df['Volume'], marker_color='red', showlegend=False), row=2, col=1)"
   ]
  },
  {
   "cell_type": "markdown",
   "id": "48d7a700-393a-4de6-adfa-5ca2d551597b",
   "metadata": {},
   "source": [
    "`# Update layout with appropriate label, colours and sizes`"
   ]
  },
  {
   "cell_type": "code",
   "execution_count": 8,
   "id": "3671c3b3-cc32-4e80-bd5d-7042368c7609",
   "metadata": {},
   "outputs": [
    {
     "data": {
      "text/html": [
       "<iframe\n",
       "    scrolling=\"no\"\n",
       "    width=\"820px\"\n",
       "    height=\"520\"\n",
       "    src=\"iframe_figures/figure_8.html\"\n",
       "    frameborder=\"0\"\n",
       "    allowfullscreen\n",
       "></iframe>\n"
      ]
     },
     "metadata": {},
     "output_type": "display_data"
    }
   ],
   "source": [
    "fig.update_layout(\n",
    "    title = 'NVDA historical price chart',\n",
    "    xaxis_tickfont_size = 12,\n",
    "    yaxis = dict(\n",
    "        title = 'Price ($/share)',\n",
    "        titlefont_size = 14,\n",
    "        tickfont_size = 12\n",
    "        ),\n",
    "    autosize = False,\n",
    "    width = 800,\n",
    "    height = 500,\n",
    "    margin = dict(l = 50, r = 50, b = 100, pad = 5),\n",
    "    paper_bgcolor = 'LightSteelBlue'\n",
    ")"
   ]
  },
  {
   "cell_type": "markdown",
   "id": "300ece33-467c-42a6-8ce2-0c53ffb6c817",
   "metadata": {},
   "source": [
    "`# Remove rangeslider from subplot`"
   ]
  },
  {
   "cell_type": "code",
   "execution_count": 9,
   "id": "7e6a7119-a48a-4f24-8720-d6a4bb735b50",
   "metadata": {},
   "outputs": [
    {
     "data": {
      "text/html": [
       "<iframe\n",
       "    scrolling=\"no\"\n",
       "    width=\"820px\"\n",
       "    height=\"520\"\n",
       "    src=\"iframe_figures/figure_9.html\"\n",
       "    frameborder=\"0\"\n",
       "    allowfullscreen\n",
       "></iframe>\n"
      ]
     },
     "metadata": {},
     "output_type": "display_data"
    }
   ],
   "source": [
    "fig.update(layout_xaxis_rangeslider_visible=False)"
   ]
  }
 ],
 "metadata": {
  "kernelspec": {
   "display_name": "Python 3 (ipykernel)",
   "language": "python",
   "name": "python3"
  },
  "language_info": {
   "codemirror_mode": {
    "name": "ipython",
    "version": 3
   },
   "file_extension": ".py",
   "mimetype": "text/x-python",
   "name": "python",
   "nbconvert_exporter": "python",
   "pygments_lexer": "ipython3",
   "version": "3.10.14"
  }
 },
 "nbformat": 4,
 "nbformat_minor": 5
}
