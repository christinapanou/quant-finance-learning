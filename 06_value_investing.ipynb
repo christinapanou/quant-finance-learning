{
 "cells": [
  {
   "cell_type": "markdown",
   "id": "dd8cb49a-13f5-4501-94f6-a6646d984398",
   "metadata": {},
   "source": [
    "`# Import dependencies`"
   ]
  },
  {
   "cell_type": "code",
   "execution_count": 1,
   "id": "d324a5d7-e10d-4010-bcb6-3dc2aaca4fcb",
   "metadata": {},
   "outputs": [],
   "source": [
    "import datetime as dt\n",
    "import pandas as pd\n",
    "\n",
    "import concurrent.futures as cf\n",
    "from yahoofinancials import YahooFinancials\n",
    "\n",
    "import re\n",
    "import ast\n",
    "import time\n",
    "import requests\n",
    "from bs4 import BeautifulSoup\n",
    "\n",
    "# import numpy as np\n",
    "# import yfinance as yf\n",
    "# from pandas_datareader import data as pdr\n",
    "# from scipy import stats"
   ]
  },
  {
   "cell_type": "markdown",
   "id": "b110d2fb-3aa0-44f3-b26f-946b94195ce8",
   "metadata": {},
   "source": [
    "`# Get list of stocks we want to narrow down`"
   ]
  },
  {
   "cell_type": "code",
   "execution_count": 2,
   "id": "3a4731fc-245d-4319-b2cc-258d03150893",
   "metadata": {},
   "outputs": [],
   "source": [
    "asx_200 = 'https://www.asx200list.com/'\n",
    "all_ords = 'https://www.allordslist.com/'\n",
    "small_ords = 'https://www.smallordslist.com/'"
   ]
  },
  {
   "cell_type": "markdown",
   "id": "27e207d8-c30c-497c-a2f5-f639e0c32d83",
   "metadata": {},
   "source": [
    "`# Webscraping list of stocks`"
   ]
  },
  {
   "cell_type": "code",
   "execution_count": 3,
   "id": "a243c655-e273-4222-bc4a-0e499880d6d6",
   "metadata": {},
   "outputs": [],
   "source": [
    "header = {\n",
    "    'User-Agent': 'Mozilla/5.0 (Macintosh; Intel Mac OS X 10_10_1) AppleWebKit/537.36 (KHTML, like Gecko) Chrome/39.0.2171.95 Safari/537.36',\n",
    "}"
   ]
  },
  {
   "cell_type": "code",
   "execution_count": 4,
   "id": "ebb18d64-d93d-492e-a6cc-06f774396ee8",
   "metadata": {},
   "outputs": [
    {
     "name": "stdout",
     "output_type": "stream",
     "text": [
      "ASX200 ['A2M', 'AAA', 'ABC', 'ABP', 'AFI', 'AGL', 'AIA', 'ALD', 'ALL', 'ALQ', 'ALU', 'ALX', 'AMC', 'AMP', 'ANN', 'ANZ', 'APA', 'APE', 'APT', 'APX', 'ARB', 'ARG', 'AST', 'ASX', 'AWC', 'AZJ', 'BAP', 'BEN', 'BGA', 'BHP', 'BIN', 'BKW', 'BLD', 'BOQ', 'BPT', 'BRG', 'BSL', 'BWP', 'BXB', 'CAR', 'CBA', 'CCL', 'CCP', 'CDA', 'CGF', 'CHC', 'CHN', 'CIA', 'CIM', 'CLW', 'CMW', 'CNU', 'COH', 'COL', 'CPU', 'CQR', 'CSL', 'CSR', 'CTD', 'CWN', 'CWY', 'DEG', 'DHG', 'DMP', 'DOW', 'DRR', 'DXS', 'EBO', 'ELD', 'EML', 'EVN', 'EVT', 'FBU', 'FLT', 'FMG', 'FPH', 'GMG', 'GNE', 'GOZ', 'GPT', 'GXY', 'HLS', 'HVN', 'IAG', 'IEL', 'IFL', 'IFT', 'IGO', 'ILU', 'IOO', 'IOZ', 'IPL', 'IRE', 'IVV', 'JBH', 'JHX', 'LFG', 'LFS', 'LLC', 'LNK', 'LYC', 'MCY', 'MEZ', 'MFG', 'MGF', 'MGOC', 'MGR', 'MIN', 'MLT', 'MP1', 'MPL', 'MQG', 'MTS', 'NAB', 'NCM', 'NEC', 'NHF', 'NIC', 'NSR', 'NST', 'NUF', 'NWL', 'NXT', 'ORA', 'ORE', 'ORG', 'ORI', 'OSH', 'OZL', 'PBH', 'PDL', 'PLS', 'PME', 'PMGOLD', 'PMV', 'PNI', 'PNV', 'PPT', 'PTM', 'QAN', 'QBE', 'QUB', 'REA', 'REH', 'RHC', 'RIO', 'RMD', 'RRL', 'RWC', 'S32', 'SCG', 'SCP', 'SDF', 'SEK', 'SGM', 'SGP', 'SGR', 'SHL', 'SKC', 'SKI', 'SLK', 'SNZ', 'SOL', 'SPK', 'STO', 'STW', 'SUL', 'SUN', 'SVW', 'SYD', 'TAH', 'TCL', 'TLS', 'TLT', 'TNE', 'TPG', 'TWE', 'TYR', 'VAP', 'VAS', 'VCX', 'VEA', 'VEU', 'VGS', 'VOC', 'VTS', 'VUK', 'WAM', 'WBC', 'WEB', 'WES', 'WOR', 'WOW', 'WPL', 'WPR', 'WTC', 'XRO', 'YAL', 'Z1P', 'ZIM']\n",
      "SMALLORDS ['ABP', 'AX1', 'ABC', 'AQG', 'AMA', 'AYS', 'APE', 'ADI', 'APX', 'ARB', 'ALG', 'ARF', 'AHY', 'AUB', 'AIA', 'AD8', 'AMI', 'ASB', 'AAC', 'API', 'AVN', 'AVH', 'BBN', 'BAP', 'BGA', 'BGL', 'BIN', 'BKL', 'BVS', 'BRG', 'BKW', 'BUB', 'BWP', 'BWX', 'CDD', 'CVN', 'CWP', 'CNI', 'CIP', 'COF', 'CIA', 'CLW', 'CQR', 'CQE', 'CNU', 'CUV', 'CDA', 'CKF', 'COE', 'CTD', 'CGC', 'CCP', 'CMW', 'CSR', 'DCN', 'DTL', 'DHG', 'ECX', 'ELD', 'EHL', 'EML', 'EHE', 'FAR', 'FPH', 'FBU', 'FXL', 'FNP', 'GUD', 'GEM', 'GXY', 'GDI', 'GMA', 'GOR', 'GNC', 'GOZ', 'GWA', 'HSN', 'HVN', 'HLS', 'HPI', 'HT1', 'HUB', 'IEL', 'IGO', 'IMD', 'IFN', 'IFM', 'INA', 'ING', 'ITG', 'IRI', 'IAP', 'IVC', 'INR', 'IFL', 'IPH', 'IRE', 'ISX', 'IGL', 'JHG', 'JHC', 'JIN', 'JMS', 'KAR', 'KGN', 'LIC', 'LOV', 'LYC', 'MAH', 'MGX', 'MIN', 'MLD', 'MMS', 'MND', 'MNY', 'MP1', 'MSB', 'MTS', 'MVF', 'MYR', 'MYS', 'MYX', 'NAN', 'NCK', 'NCZ', 'NEA', 'NGI', 'NHC', 'NIC', 'NSR', 'NUF', 'NWH', 'NWL', 'NWS', 'NXT', 'OBL', 'OFX', 'OGC', 'OML', 'ORE', 'PDL', 'PDN', 'PET', 'PGH', 'PLS', 'PME', 'PMV', 'PNI', 'PNV', 'PPT', 'PRN', 'PRU', 'PTM', 'RDC', 'REG', 'RFF', 'RMS', 'RRL', 'RSG', 'SAR', 'SBM', 'SCP', 'SDA', 'SDF', 'SFR', 'SGF', 'SGM', 'SHV', 'SIG', 'SIQ', 'SKC', 'SLC', 'SLR', 'SM1', 'SPK', 'SPL', 'SSM', 'SUL', 'SVW', 'SWM', 'SXL', 'SXY', 'SYR', 'TGR', 'TNE', 'UMG', 'VEA', 'VOC', 'VRL', 'VRT', 'VVR', 'WAF', 'WEB', 'WGX', 'WPP', 'WSA', 'Z1P']\n",
      "ALLORDS ['360', '3DP', 'A200', 'A2M', 'A4N', 'AAA', 'AAC', 'ABB', 'ABC', 'ABP', 'ABR', 'ABY', 'AD8', 'ADH', 'ADI', 'ADN', 'ADO', 'ADT', 'AEF', 'AFG', 'AFI', 'AFP', 'AGG', 'AGL', 'AHY', 'AIA', 'AIZ', 'AKP', 'ALC', 'ALD', 'ALG', 'ALK', 'ALL', 'ALQ', 'ALU', 'ALX', 'AMA', 'AMC', 'AMI', 'AMP', 'ANN', 'ANZ', 'AOF', 'APA', 'APE', 'API', 'APL', 'APT', 'APX', 'AQR', 'AQZ', 'ARB', 'ARF', 'ARG', 'ART', 'ASB', 'ASG', 'ASIA', 'ASM', 'AST', 'ASX', 'AUB', 'AUI', 'AVN', 'AVZ', 'AWC', 'AX1', 'AZJ', 'BAP', 'BBN', 'BCK', 'BEN', 'BET', 'BFG', 'BGA', 'BGL', 'BGP', 'BHP', 'BILL', 'BIN', 'BKI', 'BKL', 'BKW', 'BLD', 'BLX', 'BOQ', 'BPT', 'BRG', 'BRN', 'BSL', 'BTH', 'BVS', 'BWP', 'BWX', 'BXB', 'CAJ', 'CAR', 'CAT', 'CBA', 'CCL', 'CCP', 'CCX', 'CDA', 'CEN', 'CGC', 'CGF', 'CHC', 'CHN', 'CIA', 'CIM', 'CIN', 'CIP', 'CKF', 'CLW', 'CMM', 'CMW', 'CNI', 'CNU', 'COE', 'COF', 'COH', 'COL', 'CPU', 'CQE', 'CQR', 'CRED', 'CRN', 'CSL', 'CSR', 'CTD', 'CTT', 'CUV', 'CVN', 'CWN', 'CWP', 'CWY', 'CXL', 'DBI', 'DDH', 'DDR', 'DEG', 'DHG', 'DJRE', 'DJW', 'DMP', 'DOW', 'DRR', 'DTL', 'DUB', 'DUI', 'DXS', 'EBO', 'ECX', 'EHE', 'EHL', 'ELD', 'ELO', 'EML', 'EMR', 'EOF', 'EOS', 'EQT', 'ERA', 'ERD', 'ETHI', 'EVN', 'EVT', 'FAIR', 'FBU', 'FCL', 'FDV', 'FGG', 'FGX', 'FLN', 'FLT', 'FMG', 'FPH', 'FSF', 'GCI', 'GDI', 'GDX', 'GEM', 'GMA', 'GMG', 'GNC', 'GNE', 'GOLD', 'GOR', 'GOZ', 'GPT', 'GRR', 'GUD', 'GWA', 'GXY', 'HACK', 'HBRD', 'HDN', 'HGH', 'HLS', 'HM1', 'HMC', 'HPI', 'HSN', 'HT1', 'HTA', 'HUB', 'HUM', 'HVN', 'HYGG', 'IAA', 'IAF', 'IAG', 'IAP', 'IDX', 'IEL', 'IEM', 'IEU', 'IFL', 'IFM', 'IFRA', 'IFT', 'IGO', 'IHVV', 'IJP', 'ILC', 'ILU', 'IMD', 'IMU', 'INA', 'ING', 'INR', 'IOO', 'IOZ', 'IPH', 'IPL', 'IRE', 'IRI', 'ISX', 'IVC', 'IVE', 'IVV', 'IXJ', 'JBH', 'JHG', 'JHX', 'JIN', 'JLG', 'JMS', 'KGN', 'KKC', 'KMD', 'LEP', 'LFG', 'LFS', 'LGL', 'LIC', 'LLC', 'LNK', 'LOV', 'LSF', 'LTR', 'LYC', 'MAH', 'MAQ', 'MCR', 'MCY', 'MEZ', 'MFF', 'MFG', 'MGF', 'MGH', 'MGOC', 'MGR', 'MGX', 'MHH', 'MICH', 'MIN', 'MIR', 'MLT', 'MMM', 'MMS', 'MND', 'MNF', 'MNY', 'MOE', 'MP1', 'MPL', 'MQG', 'MSB', 'MTS', 'MVA', 'MVP', 'MVW', 'MXT', 'MYS', 'MYX', 'NAB', 'NAN', 'NBI', 'NCK', 'NCM', 'NDQ', 'NEA', 'NEC', 'NHC', 'NHF', 'NIC', 'NSR', 'NST', 'NTO', 'NUF', 'NVX', 'NWH', 'NWL', 'NWS', 'NXL', 'NXT', 'OBL', 'OCA', 'OCL', 'OMH', 'OML', 'OPH', 'OPT', 'ORA', 'ORE', 'ORG', 'ORI', 'OSH', 'OZL', 'PAI', 'PAR', 'PBH', 'PCI', 'PDL', 'PDN', 'PGF', 'PGG', 'PGH', 'PL8', 'PLL', 'PLS', 'PMC', 'PME', 'PMGOLD', 'PMV', 'PNI', 'PNV', 'PPC', 'PPE', 'PPH', 'PPK', 'PPS', 'PPT', 'PRN', 'PRU', 'PSI', 'PSQ', 'PTM', 'PWG', 'PWH', 'PYC', 'QAN', 'QBE', 'QPON', 'QRI', 'QUAL', 'QUB', 'RAC', 'RBD', 'RBL', 'RDC', 'REA', 'RED', 'REG', 'REH', 'RF1', 'RFF', 'RHC', 'RIO', 'RMC', 'RMD', 'RMS', 'RRL', 'RSG', 'RWC', 'S32', 'SBM', 'SCG', 'SCP', 'SDF', 'SEK', 'SFR', 'SFY', 'SGF', 'SGLLV', 'SGM', 'SGP', 'SGR', 'SHL', 'SHV', 'SIG', 'SIQ', 'SKC', 'SKI', 'SKO', 'SLC', 'SLF', 'SLK', 'SLR', 'SM1', 'SNZ', 'SOL', 'SPK', 'SPL', 'SSM', 'SSR', 'STO', 'STW', 'STX', 'SUL', 'SUN', 'SVW', 'SWM', 'SXL', 'SXY', 'SYD', 'SYR', 'SZL', 'TAH', 'TCL', 'TGR', 'TLG', 'TLS', 'TLT', 'TLX', 'TNE', 'TPG', 'TPW', 'TWE', 'TYR', 'UMG', 'UNI', 'UOS', 'URW', 'UWL', 'VACF', 'VAF', 'VAP', 'VAS', 'VCX', 'VDBA', 'VDGR', 'VDHG', 'VEA', 'VEU', 'VG1', 'VG8', 'VGAD', 'VGB', 'VGE', 'VGI', 'VGL', 'VGS', 'VHY', 'VIF', 'VOC', 'VRT', 'VSO', 'VTS', 'VUK', 'VUL', 'WAF', 'WAM', 'WBC', 'WEB', 'WES', 'WGB', 'WGN', 'WGX', 'WHC', 'WHF', 'WLE', 'WMI', 'WOR', 'WOW', 'WPL', 'WPP', 'WPR', 'WSA', 'WSP', 'WTC', 'XARO', 'XRO', 'YAL', 'Z1P', 'ZEL', 'ZIM']\n"
     ]
    }
   ],
   "source": [
    "ASX200, ALLORDS, SMALLORDS = [],[],[]\n",
    "asx_list = [ASX200, ALLORDS, SMALLORDS]\n",
    "for index, url in enumerate([asx_200, all_ords, small_ords]):\n",
    "    res = requests.get(url, headers=header)\n",
    "    soup = BeautifulSoup(res.text, 'html.parser')\n",
    "    divs = soup.findAll('table', class_='tableizer-table sortable')[0].findAll('tbody')\n",
    "    for i, val in enumerate(divs[0]):\n",
    "        if len(val) > 1:\n",
    "            text = re.sub(r\"[<trd>]\",\"\", str(val))\n",
    "            text = text.split('/')\n",
    "            asx_list[index].append(text[0])\n",
    "            \n",
    "print('ASX200', ASX200)\n",
    "print('SMALLORDS', SMALLORDS)\n",
    "print('ALLORDS', ALLORDS)"
   ]
  },
  {
   "cell_type": "markdown",
   "id": "5557e75a-54c2-431d-83b0-ead75673cc1c",
   "metadata": {},
   "source": [
    "`# Check for duplicates`"
   ]
  },
  {
   "cell_type": "code",
   "execution_count": 5,
   "id": "c9547a23-577d-458d-a1cc-50a8d68bb6a1",
   "metadata": {},
   "outputs": [
    {
     "name": "stdout",
     "output_type": "stream",
     "text": [
      "200 200 False\n"
     ]
    }
   ],
   "source": [
    "stockList = ASX200\n",
    "stocks = [stock + '.AX' for stock in stockList]\n",
    "stocks_set = set(stocks)\n",
    "contains_duplicates = len(stocks_set) != len(stocks)\n",
    "contains_duplicates = any(stocks.count(stock) > 1 for stock in stockList)\n",
    "print(len(stocks_set), len(stocks), contains_duplicates)"
   ]
  },
  {
   "cell_type": "markdown",
   "id": "c9935a9a-0e87-4bf1-b37d-6b0ab3a17f4b",
   "metadata": {},
   "source": [
    "`# Use Yahoo Financials to retrieve FY data`"
   ]
  },
  {
   "cell_type": "code",
   "execution_count": 6,
   "id": "07a8d9ff-375c-4369-a8d8-02a1e0b39d59",
   "metadata": {},
   "outputs": [],
   "source": [
    "balanceSheet = {}\n",
    "incomeStatement = {}\n",
    "cashStatement = {}\n",
    "def retrieve_stock_data(stock):\n",
    "    try:\n",
    "        print(stock)\n",
    "        yahoo_financials = YahooFinancials(stock)\n",
    "        balance_sheet_data = yahoo_financials.get_financial_stmts('annual', 'balance')\n",
    "        income_statement_data = yahoo_financials.get_financial_stmts('annual', 'income')\n",
    "        cash_statement_data = yahoo_financials.get_financial_stmts('annual', 'cash')\n",
    "        balanceSheet[stock] = balance_sheet_data['balanceSheetHistory'][stock]\n",
    "        incomeStatement[stock] = income_statement_data['incomeStatementHistory'][stock]\n",
    "        cashStatement[stock] = cash_statement_data['cashflowStatementHistory'][stock]\n",
    "    except:\n",
    "        print('error with retrieving stock data')"
   ]
  },
  {
   "cell_type": "markdown",
   "id": "d4914116-1582-4e76-aa2e-b3f42c2f9dc8",
   "metadata": {},
   "source": [
    "`# Multithreading - I/O limited with API calls`"
   ]
  },
  {
   "cell_type": "code",
   "execution_count": null,
   "id": "70f55b08-a979-4b94-8c52-9b4b5378d6bc",
   "metadata": {},
   "outputs": [
    {
     "name": "stdout",
     "output_type": "stream",
     "text": [
      "A2M.AX\n",
      "AAA.AX\n",
      "ABC.AX\n",
      "ABP.AX\n",
      "AFI.AX\n",
      "AGL.AX\n",
      "AIA.AX\n",
      "ALD.AX\n",
      "ALL.AX\n",
      "ALQ.AX\n",
      "ALU.AX\n",
      "ALX.AX\n",
      "AMC.AX\n",
      "AMP.AX\n",
      "ANN.AX\n",
      "ANZ.AX\n"
     ]
    }
   ],
   "source": [
    "start = time.time()\n",
    "executor = cf.ThreadPoolExecutor(16)\n",
    "futures = [executor.submit(retrieve_stock_data, stock) for stock in stocks]\n",
    "cf.wait(futures)\n",
    "end = time.time()\n",
    "print('  time taken {:.2f} s'.format(end-start))"
   ]
  },
  {
   "cell_type": "markdown",
   "id": "4e106d28-cc85-4daa-bcff-360bcad62037",
   "metadata": {},
   "source": [
    "`# Open data from files`"
   ]
  },
  {
   "cell_type": "code",
   "execution_count": null,
   "id": "7a6ad627-3a87-4b71-8c93-3aff485840c9",
   "metadata": {},
   "outputs": [],
   "source": [
    "with open('balanceSheet.txt', 'r') as input:\n",
    "    balanceSheet = ast.literal_eval(input.read())\n",
    "\n",
    "with open('incomeStatement.txt', 'r') as input:\n",
    "    incomeStatement = ast.literal_eval(input.read())"
   ]
  },
  {
   "cell_type": "markdown",
   "id": "a49e684f-1c25-4c4f-99b2-7fe1eb3d072a",
   "metadata": {},
   "source": [
    "`# Evaluate ROE & EPS Growth`"
   ]
  },
  {
   "cell_type": "code",
   "execution_count": null,
   "id": "94b4dccb-6803-4d6a-9741-710de3770f8c",
   "metadata": {},
   "outputs": [],
   "source": [
    "roe_dict, epsg_dict = {}, {}\n",
    "count_missing, count_cond, count_eps_0 = 0, 0, 0\n",
    "for (keyB, valB), (keyI, valI) in zip(balanceSheet.items(), incomeStatement.items()):\n",
    "    try:\n",
    "        if keyB == keyI:\n",
    "            yearsI = [k for year in valI for k, v in year.items()]\n",
    "            yearsB = [k for year in valB for k, v in year.items()]\n",
    "            if yearsI == yearsB:\n",
    "                count_cond += 1\n",
    "                equity = [v['totalStockholderEquity'] for year in valB for k, v in year.items()]\n",
    "                commonStock = [v['commonStock'] for year in valB for k, v in year.items()]\n",
    "\n",
    "                profit = [v['grossProfit'] for year in valI for k, v in year.items()]\n",
    "                revenue = [v['totalRevenue'] for year in valI for k, v in year.items()]\n",
    "                netIncome = [v['netIncome'] for year in valI for k, v in year.items()]\n",
    "\n",
    "                roe = [round(netin/equity*100,2) for netin, equity in zip(netIncome, equity)]\n",
    "                roe_dict[keyB] = (round(sum(roe)/len(roe),2), roe)\n",
    "\n",
    "                eps = [round(earn/stono,2) for earn, stono in zip(profit, commonStock)]\n",
    "                \n",
    "                try:\n",
    "                    epsg = []\n",
    "                    for ep in range(len(eps)):\n",
    "                        if ep == 0:\n",
    "                            continue\n",
    "                        elif ep == 1:\n",
    "                            epsg.append(round(100*((eps[ep-1]/eps[ep])-1),2))\n",
    "                        elif ep == 2:\n",
    "                            epsg.append(round(100*((eps[ep-2]/eps[ep])**(1/2)-1),2))\n",
    "                            epsg.append(round(100*((eps[ep-1]/eps[ep])-1),2))\n",
    "                        elif ep == 3:\n",
    "                            epsg.append(round(100*((eps[ep-3]/eps[ep])**(1/3)-1),2))\n",
    "                            epsg.append(round(100*((eps[ep-1]/eps[ep])-1),2))\n",
    "                        else:\n",
    "                            print('More than 4 years of FY data')\n",
    "                        \n",
    "                    epsg_dict[keyB] = (round(sum(epsg)/len(epsg),2), epsg)\n",
    "                except:\n",
    "#                     print(keyB, 'eps contains 0')\n",
    "                    count_eps_0  += 1\n",
    "                    epsg_dict[keyB] = (0, eps)\n",
    "\n",
    "    except:\n",
    "#         print(keyB, 'data missing')\n",
    "        count_missing += 1\n",
    "\n",
    "print('Yearly data avail',count_cond, 'out of', len(balanceSheet))\n",
    "print('Some key data missing', count_missing, 'out of', len(balanceSheet))\n",
    "print('EPS Growth NaN', count_eps_0, 'out of', len(balanceSheet))"
   ]
  },
  {
   "cell_type": "markdown",
   "id": "5e0ee045-d046-4d10-bf33-1abdf23235da",
   "metadata": {},
   "source": [
    "`# Apply conditions on ROE & EPS Growth`"
   ]
  },
  {
   "cell_type": "code",
   "execution_count": null,
   "id": "32a10ef8-b1e0-4cb9-8d4b-cba887fadd3a",
   "metadata": {},
   "outputs": [],
   "source": [
    "ROE_req = 10\n",
    "EPSG_req = 10\n",
    "\n",
    "print('-'*50, 'RETURN ON EQUITY','-'*50)\n",
    "roe_crit = {k:v for (k,v) in roe_dict.items() if v[0] >= ROE_req and sum(n < 0 for n in v[1])==0}\n",
    "# print(roe_crit)\n",
    "print('-'*50, 'EARNINGS PER SHARE GROWTH','-'*50)\n",
    "eps_crit = {k:v for (k,v) in epsg_dict.items() if v[0] >= EPSG_req and sum(n < 0 for n in v[1])==0}\n",
    "# print(eps_crit)\n",
    "\n",
    "print('-'*50, 'ROE & EPS Growth Critera','-'*50)\n",
    "both = [key1 for key1 in roe_crit.keys() for key2 in eps_crit.keys() if key2==key1]\n",
    "print(both)"
   ]
  }
 ],
 "metadata": {
  "kernelspec": {
   "display_name": "Python 3 (ipykernel)",
   "language": "python",
   "name": "python3"
  },
  "language_info": {
   "codemirror_mode": {
    "name": "ipython",
    "version": 3
   },
   "file_extension": ".py",
   "mimetype": "text/x-python",
   "name": "python",
   "nbconvert_exporter": "python",
   "pygments_lexer": "ipython3",
   "version": "3.10.14"
  }
 },
 "nbformat": 4,
 "nbformat_minor": 5
}
